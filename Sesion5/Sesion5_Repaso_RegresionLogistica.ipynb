{
  "nbformat": 4,
  "nbformat_minor": 0,
  "metadata": {
    "colab": {
      "provenance": []
    },
    "kernelspec": {
      "name": "python3",
      "display_name": "Python 3"
    },
    "language_info": {
      "name": "python"
    }
  },
  "cells": [
    {
      "cell_type": "code",
      "execution_count": null,
      "metadata": {
        "id": "-sM89BSPCOHn"
      },
      "outputs": [],
      "source": [
        "# Modulos y datos \n",
        "import numpy as np\n",
        "import pandas as pd \n",
        "import matplotlib.pyplot as plt\n",
        "import os\n",
        "\n",
        "# Scikit-Learn\n",
        "# Particionado de los datos : train/test\n",
        "from sklearn.model_selection import train_test_split\n",
        "\n",
        "# Creacion/instanciacion del modelo : linear_model\n",
        "from sklearn.linear_model import LogisticRegression\n",
        "\n",
        "# Submodulo metrics\n",
        "from sklearn import metrics\n",
        "\n",
        "# Datos \n",
        "data = pd.read_csv(\"https://raw.githubusercontent.com/robintux/Datasets4StackOverFlowQuestions/master/breast-cancer-wisconsin.csv\")\n"
      ]
    },
    {
      "cell_type": "code",
      "source": [
        "# Necesitamos crear un objeto para las variables/columnas \n",
        "# independientes y ademas un objeto para la variable\n",
        "# dependiente\n",
        "y = data.diagnosis \n",
        "X = data.drop([\"id\", \"diagnosis\", \"Unnamed: 32\"], axis = 1)"
      ],
      "metadata": {
        "id": "FaWy8iivFHil"
      },
      "execution_count": null,
      "outputs": []
    },
    {
      "cell_type": "code",
      "source": [
        "# Construimos el modelo de regresion logistica \n",
        "# \n",
        "# Primero a realizar es la particionado de los datos en train/test\n",
        "X_train, X_test, y_train, y_test = train_test_split(X,y,\n",
        "                                                    test_size = 0.18,\n",
        "                                                    stratify= y)\n",
        "\n",
        "# Instanciamos el modelo a ajustar \n",
        "model1 = LogisticRegression(max_iter= 10000)\n",
        "\n",
        "# Ajustamos el modelo\n",
        "model1.fit(X_train, y_train)\n",
        "\n",
        "# Calculamos un score (R^2) : Tanto para los datos de entrenamiento (el cual\n",
        "# debe ser un score algo) como para los datos de testeo\n",
        "print(\"\"\"\n",
        "Score para el dataset de entrenamiento : %f\n",
        "Score para el dataset de testeo : %f\n",
        "\n",
        "\"\"\" %(model1.score(X_train,y_train), model1.score(X_test, y_test)))"
      ],
      "metadata": {
        "colab": {
          "base_uri": "https://localhost:8080/"
        },
        "id": "iMCIEZLcF0-N",
        "outputId": "d8b420b9-2d1a-45b6-8cf9-59e299f46357"
      },
      "execution_count": null,
      "outputs": [
        {
          "output_type": "stream",
          "name": "stdout",
          "text": [
            "\n",
            "Score para el dataset de entrenamiento : 0.965665\n",
            "Score para el dataset de testeo : 0.902913\n",
            "\n",
            "\n"
          ]
        }
      ]
    },
    {
      "cell_type": "code",
      "source": [
        "# Construyamos pronosticos : El metodo predict\n",
        "yForecast = model1.predict(X_test)\n",
        "\n",
        "# Matriz de confusion\n",
        "metrics.confusion_matrix(y_test, yForecast)"
      ],
      "metadata": {
        "colab": {
          "base_uri": "https://localhost:8080/"
        },
        "id": "73tAChcLJKGZ",
        "outputId": "ed22673d-4237-499f-c1b8-d3c8687d7d7c"
      },
      "execution_count": null,
      "outputs": [
        {
          "output_type": "execute_result",
          "data": {
            "text/plain": [
              "array([[61,  4],\n",
              "       [ 6, 32]])"
            ]
          },
          "metadata": {},
          "execution_count": 5
        }
      ]
    },
    {
      "cell_type": "code",
      "source": [
        "# Pensando en el ajuste de hiperparametros de mi modelo ,\n",
        "# necesitamos conocer el conjunto de argumentos de la clase\n",
        "# instanciada: LogisticRegression\n",
        "help(LogisticRegression)"
      ],
      "metadata": {
        "id": "sVn6ti0sKfvN"
      },
      "execution_count": null,
      "outputs": []
    },
    {
      "cell_type": "code",
      "source": [
        "# Busqueda de hiperparametros \n",
        "# Cargamos la clase GridSearchCV\n",
        "from sklearn.model_selection import GridSearchCV\n",
        "\n",
        "# Definimos un diccionario con los hiperparametros\n",
        "DictRegLog1 = {\"C\": np.linspace(0.01, 10, 10)}\n",
        "\n",
        "\n",
        "# Modelo Base : Este modelo servira para que se realice el barrido de hiperparametros \n",
        "ModBaseClf =LogisticRegression(max_iter = 10000)\n",
        "\n",
        "# Configuracion del gridSearchCV\n",
        "ModBaseClf_gs1 = GridSearchCV(estimator = ModBaseClf,\n",
        "                              param_grid = DictRegLog1,\n",
        "                              cv = 5,\n",
        "                              verbose = 4)\n",
        "\n",
        "# Midamos el tiempo de procesamiento para hacer el GridSearch \n",
        "import time\n",
        "InicioCronometro = time.time()\n",
        "# \n",
        "MejorModelClf = ModBaseClf_gs1.fit(X_train, y_train)\n",
        "# \n",
        "FinCronometro = time.time()\n",
        "# \n",
        "print(\"Tiempo de procesamiento \", FinCronometro - InicioCronometro)\n"
      ],
      "metadata": {
        "colab": {
          "base_uri": "https://localhost:8080/"
        },
        "id": "VPFrsqt_PBO1",
        "outputId": "b2b4da22-2b4f-4339-c859-3989bc553b81"
      },
      "execution_count": null,
      "outputs": [
        {
          "output_type": "stream",
          "name": "stdout",
          "text": [
            "Fitting 5 folds for each of 10 candidates, totalling 50 fits\n",
            "[CV 1/5] END ............................C=0.01;, score=0.936 total time=   0.1s\n",
            "[CV 2/5] END ............................C=0.01;, score=0.989 total time=   0.1s\n",
            "[CV 3/5] END ............................C=0.01;, score=0.957 total time=   0.1s\n",
            "[CV 4/5] END ............................C=0.01;, score=0.925 total time=   0.1s\n",
            "[CV 5/5] END ............................C=0.01;, score=0.946 total time=   0.3s\n",
            "[CV 1/5] END ............................C=1.12;, score=0.936 total time=   1.1s\n",
            "[CV 2/5] END ............................C=1.12;, score=0.978 total time=   0.9s\n",
            "[CV 3/5] END ............................C=1.12;, score=0.946 total time=   0.7s\n",
            "[CV 4/5] END ............................C=1.12;, score=0.925 total time=   1.6s\n",
            "[CV 5/5] END ............................C=1.12;, score=0.957 total time=   3.0s\n",
            "[CV 1/5] END ............................C=2.23;, score=0.947 total time=   1.1s\n",
            "[CV 2/5] END ............................C=2.23;, score=0.978 total time=   1.0s\n",
            "[CV 3/5] END ............................C=2.23;, score=0.935 total time=   0.9s\n",
            "[CV 4/5] END ............................C=2.23;, score=0.914 total time=   1.0s\n",
            "[CV 5/5] END ............................C=2.23;, score=0.957 total time=   1.2s\n",
            "[CV 1/5] END ............................C=3.34;, score=0.957 total time=   1.4s\n",
            "[CV 2/5] END ............................C=3.34;, score=0.978 total time=   1.0s\n",
            "[CV 3/5] END ............................C=3.34;, score=0.946 total time=   0.8s\n",
            "[CV 4/5] END ............................C=3.34;, score=0.914 total time=   1.9s\n",
            "[CV 5/5] END ............................C=3.34;, score=0.957 total time=   2.0s\n",
            "[CV 1/5] END ............................C=4.45;, score=0.957 total time=   1.1s\n",
            "[CV 2/5] END ............................C=4.45;, score=0.989 total time=   0.3s\n",
            "[CV 3/5] END ............................C=4.45;, score=0.946 total time=   1.0s\n",
            "[CV 4/5] END ............................C=4.45;, score=0.914 total time=   1.3s\n",
            "[CV 5/5] END ............................C=4.45;, score=0.957 total time=   1.5s\n",
            "[CV 1/5] END ..............C=5.5600000000000005;, score=0.957 total time=   1.4s\n",
            "[CV 2/5] END ..............C=5.5600000000000005;, score=0.989 total time=   0.3s\n",
            "[CV 3/5] END ..............C=5.5600000000000005;, score=0.935 total time=   0.6s\n",
            "[CV 4/5] END ..............C=5.5600000000000005;, score=0.914 total time=   0.3s\n",
            "[CV 5/5] END ..............C=5.5600000000000005;, score=0.957 total time=   1.1s\n",
            "[CV 1/5] END ............................C=6.67;, score=0.957 total time=   3.1s\n",
            "[CV 2/5] END ............................C=6.67;, score=0.978 total time=   2.2s\n",
            "[CV 3/5] END ............................C=6.67;, score=0.935 total time=   0.3s\n",
            "[CV 4/5] END ............................C=6.67;, score=0.914 total time=   0.2s\n",
            "[CV 5/5] END ............................C=6.67;, score=0.957 total time=   1.3s\n",
            "[CV 1/5] END ............................C=7.78;, score=0.968 total time=   1.5s\n",
            "[CV 2/5] END ............................C=7.78;, score=0.978 total time=   1.5s\n",
            "[CV 3/5] END ............................C=7.78;, score=0.957 total time=   1.2s\n",
            "[CV 4/5] END ............................C=7.78;, score=0.914 total time=   1.3s\n",
            "[CV 5/5] END ............................C=7.78;, score=0.957 total time=   1.1s\n",
            "[CV 1/5] END ............................C=8.89;, score=0.968 total time=   3.5s\n",
            "[CV 2/5] END ............................C=8.89;, score=0.978 total time=   1.9s\n",
            "[CV 3/5] END ............................C=8.89;, score=0.935 total time=   0.7s\n",
            "[CV 4/5] END ............................C=8.89;, score=0.914 total time=   0.6s\n",
            "[CV 5/5] END ............................C=8.89;, score=0.957 total time=   1.1s\n",
            "[CV 1/5] END ............................C=10.0;, score=0.968 total time=   1.4s\n",
            "[CV 2/5] END ............................C=10.0;, score=0.978 total time=   1.5s\n",
            "[CV 3/5] END ............................C=10.0;, score=0.935 total time=   0.3s\n",
            "[CV 4/5] END ............................C=10.0;, score=0.914 total time=   0.5s\n",
            "[CV 5/5] END ............................C=10.0;, score=0.957 total time=   2.1s\n",
            "Tiempo de procesamiento  59.403003215789795\n"
          ]
        }
      ]
    },
    {
      "cell_type": "code",
      "source": [
        "# Los mejores parametros \n",
        "MejorModelClf.best_params_"
      ],
      "metadata": {
        "colab": {
          "base_uri": "https://localhost:8080/"
        },
        "id": "hP659QF3SZn0",
        "outputId": "74adc145-5fb9-4851-e968-e4518ca713c1"
      },
      "execution_count": null,
      "outputs": [
        {
          "output_type": "execute_result",
          "data": {
            "text/plain": [
              "{'C': 7.78}"
            ]
          },
          "metadata": {},
          "execution_count": 12
        }
      ]
    },
    {
      "cell_type": "code",
      "source": [
        "MejorModelClf.best_estimator_"
      ],
      "metadata": {
        "colab": {
          "base_uri": "https://localhost:8080/"
        },
        "id": "qV5rE16OSjyy",
        "outputId": "8bc6dabc-5b88-4e25-8f74-9ffdbc3e8385"
      },
      "execution_count": null,
      "outputs": [
        {
          "output_type": "execute_result",
          "data": {
            "text/plain": [
              "LogisticRegression(C=7.78, max_iter=10000)"
            ]
          },
          "metadata": {},
          "execution_count": 13
        }
      ]
    },
    {
      "cell_type": "code",
      "source": [
        "# El mejor indicador de calidad \n",
        "MejorModelClf.best_score_"
      ],
      "metadata": {
        "colab": {
          "base_uri": "https://localhost:8080/"
        },
        "id": "rLnIbkT1S3yz",
        "outputId": "d50ece69-5069-4b0a-ee74-309c80034521"
      },
      "execution_count": null,
      "outputs": [
        {
          "output_type": "execute_result",
          "data": {
            "text/plain": [
              "0.9549073438572411"
            ]
          },
          "metadata": {},
          "execution_count": 14
        }
      ]
    },
    {
      "cell_type": "code",
      "source": [
        "# Si deseo construir otra busqueda de hiperparametros \n",
        "# Defino mi diccionarios\n",
        "\n",
        "DictRegLog2 = {\"C\": np.linspace(1, 15, 30),\n",
        "              #  \"solver\" :[\"newton-cg\", \"lbfgs\", \"liblinear\", \"sag\", \"saga\"],\n",
        "              #  \"dual\" : [True, False],\n",
        "              #  \"fit_intercept\": [True, False]\n",
        "               }\n",
        "\n",
        "# Modelo Base : Este modelo servira para que se realice el barrido de hiperparametros \n",
        "ModBaseClf2 =LogisticRegression(max_iter = 10000)\n",
        "\n",
        "# Configuracion del gridSearchCV\n",
        "ModBaseClf_gs2 = GridSearchCV(estimator = ModBaseClf2,\n",
        "                              param_grid = DictRegLog2,\n",
        "                              cv = 5,\n",
        "                              verbose = 4)\n",
        "\n",
        "# Midamos el tiempo de procesamiento para hacer el GridSearch \n",
        "import time\n",
        "InicioCronometro = time.time()\n",
        "# \n",
        "MejorModelClf2 = ModBaseClf_gs2.fit(X_train, y_train)\n",
        "# \n",
        "FinCronometro = time.time()\n",
        "# \n",
        "print(\"Tiempo de procesamiento \", FinCronometro - InicioCronometro)\n",
        "\n"
      ],
      "metadata": {
        "colab": {
          "base_uri": "https://localhost:8080/"
        },
        "id": "IsPjmNNITFul",
        "outputId": "c65b9692-dc6c-4a68-c96f-c33f94700a58"
      },
      "execution_count": null,
      "outputs": [
        {
          "output_type": "stream",
          "name": "stdout",
          "text": [
            "Fitting 5 folds for each of 30 candidates, totalling 150 fits\n",
            "[CV 1/5] END .............................C=1.0;, score=0.947 total time=   1.5s\n",
            "[CV 2/5] END .............................C=1.0;, score=0.978 total time=   1.7s\n",
            "[CV 3/5] END .............................C=1.0;, score=0.946 total time=   1.3s\n",
            "[CV 4/5] END .............................C=1.0;, score=0.925 total time=   1.0s\n",
            "[CV 5/5] END .............................C=1.0;, score=0.957 total time=   0.7s\n",
            "[CV 1/5] END ..............C=1.4827586206896552;, score=0.947 total time=   0.7s\n",
            "[CV 2/5] END ..............C=1.4827586206896552;, score=0.978 total time=   1.0s\n",
            "[CV 3/5] END ..............C=1.4827586206896552;, score=0.946 total time=   0.8s\n",
            "[CV 4/5] END ..............C=1.4827586206896552;, score=0.925 total time=   0.7s\n",
            "[CV 5/5] END ..............C=1.4827586206896552;, score=0.957 total time=   0.7s\n",
            "[CV 1/5] END ..............C=1.9655172413793105;, score=0.947 total time=   0.8s\n",
            "[CV 2/5] END ..............C=1.9655172413793105;, score=0.978 total time=   1.1s\n",
            "[CV 3/5] END ..............C=1.9655172413793105;, score=0.935 total time=   0.9s\n",
            "[CV 4/5] END ..............C=1.9655172413793105;, score=0.925 total time=   0.9s\n",
            "[CV 5/5] END ..............C=1.9655172413793105;, score=0.957 total time=   1.8s\n",
            "[CV 1/5] END ..............C=2.4482758620689653;, score=0.947 total time=   2.2s\n",
            "[CV 2/5] END ..............C=2.4482758620689653;, score=0.978 total time=   1.2s\n",
            "[CV 3/5] END ..............C=2.4482758620689653;, score=0.935 total time=   0.9s\n",
            "[CV 4/5] END ..............C=2.4482758620689653;, score=0.914 total time=   0.3s\n",
            "[CV 5/5] END ..............C=2.4482758620689653;, score=0.957 total time=   1.0s\n",
            "[CV 1/5] END ...............C=2.931034482758621;, score=0.957 total time=   1.0s\n",
            "[CV 2/5] END ...............C=2.931034482758621;, score=0.978 total time=   1.2s\n",
            "[CV 3/5] END ...............C=2.931034482758621;, score=0.946 total time=   0.8s\n",
            "[CV 4/5] END ...............C=2.931034482758621;, score=0.914 total time=   0.7s\n",
            "[CV 5/5] END ...............C=2.931034482758621;, score=0.957 total time=   1.1s\n",
            "[CV 1/5] END ...............C=3.413793103448276;, score=0.957 total time=   1.1s\n",
            "[CV 2/5] END ...............C=3.413793103448276;, score=0.978 total time=   1.7s\n",
            "[CV 3/5] END ...............C=3.413793103448276;, score=0.935 total time=   0.7s\n",
            "[CV 4/5] END ...............C=3.413793103448276;, score=0.914 total time=   0.7s\n",
            "[CV 5/5] END ...............C=3.413793103448276;, score=0.957 total time=   1.4s\n",
            "[CV 1/5] END ...............C=3.896551724137931;, score=0.957 total time=   1.0s\n",
            "[CV 2/5] END ...............C=3.896551724137931;, score=0.978 total time=   1.1s\n",
            "[CV 3/5] END ...............C=3.896551724137931;, score=0.935 total time=   0.3s\n",
            "[CV 4/5] END ...............C=3.896551724137931;, score=0.914 total time=   0.3s\n",
            "[CV 5/5] END ...............C=3.896551724137931;, score=0.957 total time=   1.7s\n",
            "[CV 1/5] END ...............C=4.379310344827586;, score=0.957 total time=   1.3s\n",
            "[CV 2/5] END ...............C=4.379310344827586;, score=0.978 total time=   1.3s\n",
            "[CV 3/5] END ...............C=4.379310344827586;, score=0.946 total time=   1.4s\n",
            "[CV 4/5] END ...............C=4.379310344827586;, score=0.914 total time=   1.6s\n",
            "[CV 5/5] END ...............C=4.379310344827586;, score=0.957 total time=   2.7s\n",
            "[CV 1/5] END ...............C=4.862068965517242;, score=0.957 total time=   1.0s\n",
            "[CV 2/5] END ...............C=4.862068965517242;, score=0.978 total time=   1.3s\n",
            "[CV 3/5] END ...............C=4.862068965517242;, score=0.946 total time=   1.0s\n",
            "[CV 4/5] END ...............C=4.862068965517242;, score=0.914 total time=   1.1s\n",
            "[CV 5/5] END ...............C=4.862068965517242;, score=0.957 total time=   0.9s\n",
            "[CV 1/5] END ...............C=5.344827586206897;, score=0.957 total time=   1.6s\n",
            "[CV 2/5] END ...............C=5.344827586206897;, score=0.978 total time=   6.3s\n",
            "[CV 3/5] END ...............C=5.344827586206897;, score=0.946 total time=   2.2s\n",
            "[CV 4/5] END ...............C=5.344827586206897;, score=0.914 total time=   0.4s\n",
            "[CV 5/5] END ...............C=5.344827586206897;, score=0.957 total time=   1.1s\n",
            "[CV 1/5] END ...............C=5.827586206896552;, score=0.957 total time=   1.3s\n",
            "[CV 2/5] END ...............C=5.827586206896552;, score=0.978 total time=   1.0s\n",
            "[CV 3/5] END ...............C=5.827586206896552;, score=0.946 total time=   1.3s\n",
            "[CV 4/5] END ...............C=5.827586206896552;, score=0.914 total time=   1.4s\n",
            "[CV 5/5] END ...............C=5.827586206896552;, score=0.957 total time=   2.0s\n",
            "[CV 1/5] END ...............C=6.310344827586207;, score=0.957 total time=   2.7s\n",
            "[CV 2/5] END ...............C=6.310344827586207;, score=0.978 total time=   2.1s\n",
            "[CV 3/5] END ...............C=6.310344827586207;, score=0.935 total time=   0.4s\n",
            "[CV 4/5] END ...............C=6.310344827586207;, score=0.914 total time=   1.1s\n",
            "[CV 5/5] END ...............C=6.310344827586207;, score=0.957 total time=   1.1s\n",
            "[CV 1/5] END ...............C=6.793103448275862;, score=0.957 total time=   1.6s\n",
            "[CV 2/5] END ...............C=6.793103448275862;, score=0.989 total time=   0.3s\n",
            "[CV 3/5] END ...............C=6.793103448275862;, score=0.935 total time=   0.6s\n",
            "[CV 4/5] END ...............C=6.793103448275862;, score=0.914 total time=   1.3s\n",
            "[CV 5/5] END ...............C=6.793103448275862;, score=0.957 total time=   1.5s\n",
            "[CV 1/5] END ...............C=7.275862068965518;, score=0.979 total time=   1.4s\n",
            "[CV 2/5] END ...............C=7.275862068965518;, score=0.978 total time=   2.4s\n",
            "[CV 3/5] END ...............C=7.275862068965518;, score=0.935 total time=   0.8s\n",
            "[CV 4/5] END ...............C=7.275862068965518;, score=0.914 total time=   0.6s\n",
            "[CV 5/5] END ...............C=7.275862068965518;, score=0.957 total time=   1.4s\n",
            "[CV 1/5] END ...............C=7.758620689655173;, score=0.957 total time=   1.4s\n",
            "[CV 2/5] END ...............C=7.758620689655173;, score=0.978 total time=   1.5s\n",
            "[CV 3/5] END ...............C=7.758620689655173;, score=0.935 total time=   0.3s\n",
            "[CV 4/5] END ...............C=7.758620689655173;, score=0.914 total time=   0.4s\n",
            "[CV 5/5] END ...............C=7.758620689655173;, score=0.957 total time=   1.2s\n",
            "[CV 1/5] END ................C=8.24137931034483;, score=0.979 total time=   1.4s\n",
            "[CV 2/5] END ................C=8.24137931034483;, score=0.978 total time=   2.9s\n",
            "[CV 3/5] END ................C=8.24137931034483;, score=0.935 total time=   0.8s\n",
            "[CV 4/5] END ................C=8.24137931034483;, score=0.914 total time=   1.3s\n",
            "[CV 5/5] END ................C=8.24137931034483;, score=0.957 total time=   1.8s\n",
            "[CV 1/5] END ...............C=8.724137931034484;, score=0.968 total time=   1.6s\n",
            "[CV 2/5] END ...............C=8.724137931034484;, score=0.978 total time=   1.0s\n",
            "[CV 3/5] END ...............C=8.724137931034484;, score=0.935 total time=   0.6s\n",
            "[CV 4/5] END ...............C=8.724137931034484;, score=0.914 total time=   0.3s\n",
            "[CV 5/5] END ...............C=8.724137931034484;, score=0.957 total time=   1.7s\n",
            "[CV 1/5] END ...............C=9.206896551724139;, score=0.968 total time=   1.7s\n",
            "[CV 2/5] END ...............C=9.206896551724139;, score=0.989 total time=   2.6s\n",
            "[CV 3/5] END ...............C=9.206896551724139;, score=0.935 total time=   1.2s\n",
            "[CV 4/5] END ...............C=9.206896551724139;, score=0.914 total time=   1.2s\n",
            "[CV 5/5] END ...............C=9.206896551724139;, score=0.957 total time=   1.5s\n",
            "[CV 1/5] END ...............C=9.689655172413794;, score=0.979 total time=   0.5s\n",
            "[CV 2/5] END ...............C=9.689655172413794;, score=0.978 total time=   1.6s\n",
            "[CV 3/5] END ...............C=9.689655172413794;, score=0.935 total time=   0.3s\n",
            "[CV 4/5] END ...............C=9.689655172413794;, score=0.914 total time=   1.6s\n",
            "[CV 5/5] END ...............C=9.689655172413794;, score=0.957 total time=   1.7s\n",
            "[CV 1/5] END ..............C=10.172413793103448;, score=0.968 total time=   2.2s\n",
            "[CV 2/5] END ..............C=10.172413793103448;, score=0.978 total time=   3.4s\n",
            "[CV 3/5] END ..............C=10.172413793103448;, score=0.935 total time=   0.4s\n",
            "[CV 4/5] END ..............C=10.172413793103448;, score=0.914 total time=   0.4s\n",
            "[CV 5/5] END ..............C=10.172413793103448;, score=0.957 total time=   0.6s\n",
            "[CV 1/5] END ..............C=10.655172413793103;, score=0.979 total time=   1.5s\n",
            "[CV 2/5] END ..............C=10.655172413793103;, score=0.978 total time=   1.6s\n",
            "[CV 3/5] END ..............C=10.655172413793103;, score=0.935 total time=   0.5s\n",
            "[CV 4/5] END ..............C=10.655172413793103;, score=0.914 total time=   2.1s\n",
            "[CV 5/5] END ..............C=10.655172413793103;, score=0.957 total time=   2.2s\n",
            "[CV 1/5] END ...............C=11.13793103448276;, score=0.979 total time=   3.2s\n",
            "[CV 2/5] END ...............C=11.13793103448276;, score=0.978 total time=   1.5s\n",
            "[CV 3/5] END ...............C=11.13793103448276;, score=0.935 total time=   0.6s\n",
            "[CV 4/5] END ...............C=11.13793103448276;, score=0.914 total time=   0.4s\n",
            "[CV 5/5] END ...............C=11.13793103448276;, score=0.957 total time=   1.7s\n",
            "[CV 1/5] END ..............C=11.620689655172415;, score=0.979 total time=   1.7s\n",
            "[CV 2/5] END ..............C=11.620689655172415;, score=0.978 total time=   1.7s\n",
            "[CV 3/5] END ..............C=11.620689655172415;, score=0.935 total time=   0.6s\n",
            "[CV 4/5] END ..............C=11.620689655172415;, score=0.914 total time=   2.7s\n",
            "[CV 5/5] END ..............C=11.620689655172415;, score=0.957 total time=   1.1s\n",
            "[CV 1/5] END ...............C=12.10344827586207;, score=0.968 total time=   2.2s\n",
            "[CV 2/5] END ...............C=12.10344827586207;, score=0.978 total time=   1.8s\n",
            "[CV 3/5] END ...............C=12.10344827586207;, score=0.935 total time=   0.7s\n",
            "[CV 4/5] END ...............C=12.10344827586207;, score=0.914 total time=   0.3s\n",
            "[CV 5/5] END ...............C=12.10344827586207;, score=0.957 total time=   1.0s\n",
            "[CV 1/5] END ..............C=12.586206896551724;, score=0.989 total time=   1.6s\n",
            "[CV 2/5] END ..............C=12.586206896551724;, score=0.978 total time=   1.9s\n",
            "[CV 3/5] END ..............C=12.586206896551724;, score=0.935 total time=   0.7s\n",
            "[CV 4/5] END ..............C=12.586206896551724;, score=0.914 total time=   0.9s\n",
            "[CV 5/5] END ..............C=12.586206896551724;, score=0.957 total time=   3.5s\n",
            "[CV 1/5] END ..............C=13.068965517241379;, score=0.979 total time=   0.5s\n",
            "[CV 2/5] END ..............C=13.068965517241379;, score=0.978 total time=   1.6s\n",
            "[CV 3/5] END ..............C=13.068965517241379;, score=0.925 total time=   0.5s\n",
            "[CV 4/5] END ..............C=13.068965517241379;, score=0.914 total time=   0.3s\n",
            "[CV 5/5] END ..............C=13.068965517241379;, score=0.957 total time=   1.4s\n",
            "[CV 1/5] END ..............C=13.551724137931036;, score=0.979 total time=   1.7s\n",
            "[CV 2/5] END ..............C=13.551724137931036;, score=0.978 total time=   1.7s\n",
            "[CV 3/5] END ..............C=13.551724137931036;, score=0.925 total time=   0.4s\n",
            "[CV 4/5] END ..............C=13.551724137931036;, score=0.914 total time=   0.5s\n",
            "[CV 5/5] END ..............C=13.551724137931036;, score=0.957 total time=   2.1s\n",
            "[CV 1/5] END ...............C=14.03448275862069;, score=0.989 total time=   2.5s\n",
            "[CV 2/5] END ...............C=14.03448275862069;, score=0.978 total time=   1.8s\n",
            "[CV 3/5] END ...............C=14.03448275862069;, score=0.925 total time=   0.6s\n",
            "[CV 4/5] END ...............C=14.03448275862069;, score=0.914 total time=   0.7s\n",
            "[CV 5/5] END ...............C=14.03448275862069;, score=0.957 total time=   0.7s\n",
            "[CV 1/5] END ..............C=14.517241379310345;, score=0.979 total time=   1.6s\n",
            "[CV 2/5] END ..............C=14.517241379310345;, score=0.978 total time=   2.1s\n",
            "[CV 3/5] END ..............C=14.517241379310345;, score=0.925 total time=   0.5s\n",
            "[CV 4/5] END ..............C=14.517241379310345;, score=0.914 total time=   0.7s\n",
            "[CV 5/5] END ..............C=14.517241379310345;, score=0.957 total time=   2.2s\n",
            "[CV 1/5] END ............................C=15.0;, score=0.989 total time=   3.1s\n",
            "[CV 2/5] END ............................C=15.0;, score=0.978 total time=   1.5s\n",
            "[CV 3/5] END ............................C=15.0;, score=0.925 total time=   0.7s\n",
            "[CV 4/5] END ............................C=15.0;, score=0.914 total time=   0.6s\n",
            "[CV 5/5] END ............................C=15.0;, score=0.957 total time=   1.6s\n",
            "Tiempo de procesamiento  197.73031520843506\n"
          ]
        }
      ]
    },
    {
      "cell_type": "code",
      "source": [
        "#  Para este segundo gridsearch \n",
        "# Mejor hiperparametro\n",
        "MejorModelClf2.best_params_\n"
      ],
      "metadata": {
        "colab": {
          "base_uri": "https://localhost:8080/"
        },
        "id": "Z4H0635dV-Bj",
        "outputId": "9f04c3a8-22f0-4cd0-f842-49406d2ce6e4"
      },
      "execution_count": null,
      "outputs": [
        {
          "output_type": "execute_result",
          "data": {
            "text/plain": [
              "{'C': 12.586206896551724}"
            ]
          },
          "metadata": {},
          "execution_count": 17
        }
      ]
    },
    {
      "cell_type": "code",
      "source": [
        "# El mejor indicador de calidad\n",
        "MejorModelClf2.best_score_"
      ],
      "metadata": {
        "colab": {
          "base_uri": "https://localhost:8080/"
        },
        "id": "zrxMhX9iWNxs",
        "outputId": "a7e87808-a3a7-4e32-e0c5-cb542f5762c0"
      },
      "execution_count": null,
      "outputs": [
        {
          "output_type": "execute_result",
          "data": {
            "text/plain": [
              "0.95486158773736"
            ]
          },
          "metadata": {},
          "execution_count": 18
        }
      ]
    },
    {
      "cell_type": "code",
      "source": [
        "# Guardamos el mejor modelo en disco duro\n",
        "# Proceso de serializacion \n",
        "\n",
        "# Usemos el modulo pickle \n",
        "import pickle\n",
        "\n",
        "# Creamos el mejor modelo y lo volvemos a ajustar con los de entranamiento\n",
        "Mod2 = MejorModelClf2.best_estimator_\n",
        "Mod2.fit(X_train, y_train)\n",
        "\n",
        "# Guardamos el modelo recien ajustado a disco duro \n",
        "ArchivoMod2 = \"ModRegLogCancer_Clase5_PIT2023.pkl\"\n",
        "\n",
        "# Volcamos la informacion del modelo que se encuentra en memoria ram\n",
        "# a un archivo en el disco duro \n",
        "with open(ArchivoMod2, \"wb\") as file:\n",
        "  pickle.dump(Mod2, file)"
      ],
      "metadata": {
        "id": "maGWLdNOWymy"
      },
      "execution_count": null,
      "outputs": []
    }
  ]
}