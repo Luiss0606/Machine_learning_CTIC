{
  "nbformat": 4,
  "nbformat_minor": 0,
  "metadata": {
    "colab": {
      "provenance": []
    },
    "kernelspec": {
      "name": "python3",
      "display_name": "Python 3"
    },
    "language_info": {
      "name": "python"
    }
  },
  "cells": [
    {
      "cell_type": "code",
      "execution_count": null,
      "metadata": {
        "id": "jxqVi200gn4d"
      },
      "outputs": [],
      "source": [
        "# Datos para un problema de clasificacion multinomial \n",
        "# Digitos escritos a mano \n",
        "import numpy as np\n",
        "from sklearn.datasets import load_digits\n",
        "import matplotlib.pyplot as plt\n",
        "\n",
        "# Importemos los datos \n",
        "digits = load_digits()"
      ]
    },
    {
      "cell_type": "code",
      "source": [
        "# Analicemos a digits\n",
        "type(digits)"
      ],
      "metadata": {
        "colab": {
          "base_uri": "https://localhost:8080/"
        },
        "id": "CO6-8iX7hixs",
        "outputId": "579aaf66-574b-49cf-c95c-91b2fa1900db"
      },
      "execution_count": null,
      "outputs": [
        {
          "output_type": "execute_result",
          "data": {
            "text/plain": [
              "sklearn.utils.Bunch"
            ]
          },
          "metadata": {},
          "execution_count": 3
        }
      ]
    },
    {
      "cell_type": "code",
      "source": [
        "# Sigamos analizando a digits : Lista de metodos \n",
        "dir(digits)"
      ],
      "metadata": {
        "colab": {
          "base_uri": "https://localhost:8080/"
        },
        "id": "6WSeueyAhq4L",
        "outputId": "549c9d1c-bb41-4de4-c778-f403432171d5"
      },
      "execution_count": null,
      "outputs": [
        {
          "output_type": "execute_result",
          "data": {
            "text/plain": [
              "['DESCR', 'data', 'feature_names', 'frame', 'images', 'target', 'target_names']"
            ]
          },
          "metadata": {},
          "execution_count": 4
        }
      ]
    },
    {
      "cell_type": "code",
      "source": [
        "# Documentacion de digits\n",
        "help(load_digits)"
      ],
      "metadata": {
        "colab": {
          "base_uri": "https://localhost:8080/"
        },
        "id": "zLJcVxbkh0m0",
        "outputId": "44972f51-3d75-44dd-c34d-959a310f1f4f"
      },
      "execution_count": null,
      "outputs": [
        {
          "output_type": "stream",
          "name": "stdout",
          "text": [
            "Help on function load_digits in module sklearn.datasets._base:\n",
            "\n",
            "load_digits(*, n_class=10, return_X_y=False, as_frame=False)\n",
            "    Load and return the digits dataset (classification).\n",
            "    \n",
            "    Each datapoint is a 8x8 image of a digit.\n",
            "    \n",
            "    =================   ==============\n",
            "    Classes                         10\n",
            "    Samples per class             ~180\n",
            "    Samples total                 1797\n",
            "    Dimensionality                  64\n",
            "    Features             integers 0-16\n",
            "    =================   ==============\n",
            "    \n",
            "    Read more in the :ref:`User Guide <digits_dataset>`.\n",
            "    \n",
            "    Parameters\n",
            "    ----------\n",
            "    n_class : int, default=10\n",
            "        The number of classes to return. Between 0 and 10.\n",
            "    \n",
            "    return_X_y : bool, default=False\n",
            "        If True, returns ``(data, target)`` instead of a Bunch object.\n",
            "        See below for more information about the `data` and `target` object.\n",
            "    \n",
            "        .. versionadded:: 0.18\n",
            "    \n",
            "    as_frame : bool, default=False\n",
            "        If True, the data is a pandas DataFrame including columns with\n",
            "        appropriate dtypes (numeric). The target is\n",
            "        a pandas DataFrame or Series depending on the number of target columns.\n",
            "        If `return_X_y` is True, then (`data`, `target`) will be pandas\n",
            "        DataFrames or Series as described below.\n",
            "    \n",
            "        .. versionadded:: 0.23\n",
            "    \n",
            "    Returns\n",
            "    -------\n",
            "    data : :class:`~sklearn.utils.Bunch`\n",
            "        Dictionary-like object, with the following attributes.\n",
            "    \n",
            "        data : {ndarray, dataframe} of shape (1797, 64)\n",
            "            The flattened data matrix. If `as_frame=True`, `data` will be\n",
            "            a pandas DataFrame.\n",
            "        target: {ndarray, Series} of shape (1797,)\n",
            "            The classification target. If `as_frame=True`, `target` will be\n",
            "            a pandas Series.\n",
            "        feature_names: list\n",
            "            The names of the dataset columns.\n",
            "        target_names: list\n",
            "            The names of target classes.\n",
            "    \n",
            "            .. versionadded:: 0.20\n",
            "    \n",
            "        frame: DataFrame of shape (1797, 65)\n",
            "            Only present when `as_frame=True`. DataFrame with `data` and\n",
            "            `target`.\n",
            "    \n",
            "            .. versionadded:: 0.23\n",
            "        images: {ndarray} of shape (1797, 8, 8)\n",
            "            The raw image data.\n",
            "        DESCR: str\n",
            "            The full description of the dataset.\n",
            "    \n",
            "    (data, target) : tuple if ``return_X_y`` is True\n",
            "    \n",
            "        .. versionadded:: 0.18\n",
            "    \n",
            "    This is a copy of the test set of the UCI ML hand-written digits datasets\n",
            "    https://archive.ics.uci.edu/ml/datasets/Optical+Recognition+of+Handwritten+Digits\n",
            "    \n",
            "    Examples\n",
            "    --------\n",
            "    To load the data and visualize the images::\n",
            "    \n",
            "        >>> from sklearn.datasets import load_digits\n",
            "        >>> digits = load_digits()\n",
            "        >>> print(digits.data.shape)\n",
            "        (1797, 64)\n",
            "        >>> import matplotlib.pyplot as plt\n",
            "        >>> plt.gray()\n",
            "        >>> plt.matshow(digits.images[0])\n",
            "        <...>\n",
            "        >>> plt.show()\n",
            "\n"
          ]
        }
      ]
    },
    {
      "cell_type": "code",
      "source": [
        "# Metodos de digits \n",
        "dir(digits)"
      ],
      "metadata": {
        "colab": {
          "base_uri": "https://localhost:8080/"
        },
        "id": "VrsZm0a8ihzV",
        "outputId": "5b09c5c7-f038-42ec-c325-483ed04a7dbf"
      },
      "execution_count": null,
      "outputs": [
        {
          "output_type": "execute_result",
          "data": {
            "text/plain": [
              "['DESCR', 'data', 'feature_names', 'frame', 'images', 'target', 'target_names']"
            ]
          },
          "metadata": {},
          "execution_count": 6
        }
      ]
    },
    {
      "cell_type": "code",
      "source": [
        "# El metodo DESCR\n",
        "print(digits.DESCR)"
      ],
      "metadata": {
        "colab": {
          "base_uri": "https://localhost:8080/"
        },
        "id": "O7-IUwVXinzt",
        "outputId": "0f9da4ba-e2f1-40b1-d73d-20cf17aa51f9"
      },
      "execution_count": null,
      "outputs": [
        {
          "output_type": "stream",
          "name": "stdout",
          "text": [
            ".. _digits_dataset:\n",
            "\n",
            "Optical recognition of handwritten digits dataset\n",
            "--------------------------------------------------\n",
            "\n",
            "**Data Set Characteristics:**\n",
            "\n",
            "    :Number of Instances: 1797\n",
            "    :Number of Attributes: 64\n",
            "    :Attribute Information: 8x8 image of integer pixels in the range 0..16.\n",
            "    :Missing Attribute Values: None\n",
            "    :Creator: E. Alpaydin (alpaydin '@' boun.edu.tr)\n",
            "    :Date: July; 1998\n",
            "\n",
            "This is a copy of the test set of the UCI ML hand-written digits datasets\n",
            "https://archive.ics.uci.edu/ml/datasets/Optical+Recognition+of+Handwritten+Digits\n",
            "\n",
            "The data set contains images of hand-written digits: 10 classes where\n",
            "each class refers to a digit.\n",
            "\n",
            "Preprocessing programs made available by NIST were used to extract\n",
            "normalized bitmaps of handwritten digits from a preprinted form. From a\n",
            "total of 43 people, 30 contributed to the training set and different 13\n",
            "to the test set. 32x32 bitmaps are divided into nonoverlapping blocks of\n",
            "4x4 and the number of on pixels are counted in each block. This generates\n",
            "an input matrix of 8x8 where each element is an integer in the range\n",
            "0..16. This reduces dimensionality and gives invariance to small\n",
            "distortions.\n",
            "\n",
            "For info on NIST preprocessing routines, see M. D. Garris, J. L. Blue, G.\n",
            "T. Candela, D. L. Dimmick, J. Geist, P. J. Grother, S. A. Janet, and C.\n",
            "L. Wilson, NIST Form-Based Handprint Recognition System, NISTIR 5469,\n",
            "1994.\n",
            "\n",
            ".. topic:: References\n",
            "\n",
            "  - C. Kaynak (1995) Methods of Combining Multiple Classifiers and Their\n",
            "    Applications to Handwritten Digit Recognition, MSc Thesis, Institute of\n",
            "    Graduate Studies in Science and Engineering, Bogazici University.\n",
            "  - E. Alpaydin, C. Kaynak (1998) Cascading Classifiers, Kybernetika.\n",
            "  - Ken Tang and Ponnuthurai N. Suganthan and Xi Yao and A. Kai Qin.\n",
            "    Linear dimensionalityreduction using relevance weighted LDA. School of\n",
            "    Electrical and Electronic Engineering Nanyang Technological University.\n",
            "    2005.\n",
            "  - Claudio Gentile. A New Approximate Maximal Margin Classification\n",
            "    Algorithm. NIPS. 2000.\n",
            "\n"
          ]
        }
      ]
    },
    {
      "cell_type": "code",
      "source": [
        "# El metodo image\n",
        "type(digits.images)"
      ],
      "metadata": {
        "colab": {
          "base_uri": "https://localhost:8080/"
        },
        "id": "oeWfYfCSi4_H",
        "outputId": "3729b71a-9f5f-4640-8f0f-5b2db4f17b91"
      },
      "execution_count": null,
      "outputs": [
        {
          "output_type": "execute_result",
          "data": {
            "text/plain": [
              "numpy.ndarray"
            ]
          },
          "metadata": {},
          "execution_count": 10
        }
      ]
    },
    {
      "cell_type": "code",
      "source": [
        "# El metodo shape de un ndarray\n",
        "digits.images.shape\n",
        "# Variables independientes "
      ],
      "metadata": {
        "colab": {
          "base_uri": "https://localhost:8080/"
        },
        "id": "AWaMBhe2i_TM",
        "outputId": "90854156-fe64-4b11-bc28-e1a5ea1d8bed"
      },
      "execution_count": null,
      "outputs": [
        {
          "output_type": "execute_result",
          "data": {
            "text/plain": [
              "(1797, 8, 8)"
            ]
          },
          "metadata": {},
          "execution_count": 11
        }
      ]
    },
    {
      "cell_type": "code",
      "source": [
        "# El metodo target de digits\n",
        "type(digits.target)"
      ],
      "metadata": {
        "colab": {
          "base_uri": "https://localhost:8080/"
        },
        "id": "G5lNwGw3jQad",
        "outputId": "ddeca76d-b59b-48c5-b046-db02c93be58c"
      },
      "execution_count": null,
      "outputs": [
        {
          "output_type": "execute_result",
          "data": {
            "text/plain": [
              "numpy.ndarray"
            ]
          },
          "metadata": {},
          "execution_count": 13
        }
      ]
    },
    {
      "cell_type": "code",
      "source": [
        "# Que posibles valores tiene digits.target\n",
        "np.unique(digits.target)"
      ],
      "metadata": {
        "colab": {
          "base_uri": "https://localhost:8080/"
        },
        "id": "rYFmj7M_jY5u",
        "outputId": "56ba82d8-af22-42db-8494-0837964d7d44"
      },
      "execution_count": null,
      "outputs": [
        {
          "output_type": "execute_result",
          "data": {
            "text/plain": [
              "array([0, 1, 2, 3, 4, 5, 6, 7, 8, 9])"
            ]
          },
          "metadata": {},
          "execution_count": 14
        }
      ]
    },
    {
      "cell_type": "code",
      "source": [
        "# el metodo target_names de digits\n",
        "type(digits.target_names)"
      ],
      "metadata": {
        "colab": {
          "base_uri": "https://localhost:8080/"
        },
        "id": "7ZrHjrdujobI",
        "outputId": "02fc348d-067d-4a48-90b0-eec1f725cb01"
      },
      "execution_count": null,
      "outputs": [
        {
          "output_type": "execute_result",
          "data": {
            "text/plain": [
              "numpy.ndarray"
            ]
          },
          "metadata": {},
          "execution_count": 15
        }
      ]
    },
    {
      "cell_type": "code",
      "source": [
        "digits.target_names"
      ],
      "metadata": {
        "colab": {
          "base_uri": "https://localhost:8080/"
        },
        "id": "eW4ifkcwjoZg",
        "outputId": "d4b7befc-f316-4f5f-f0bb-b0248eb07bef"
      },
      "execution_count": null,
      "outputs": [
        {
          "output_type": "execute_result",
          "data": {
            "text/plain": [
              "array([0, 1, 2, 3, 4, 5, 6, 7, 8, 9])"
            ]
          },
          "metadata": {},
          "execution_count": 16
        }
      ]
    },
    {
      "cell_type": "code",
      "source": [
        "# Como son mis imagenes \n",
        "digits.images[1796]"
      ],
      "metadata": {
        "colab": {
          "base_uri": "https://localhost:8080/"
        },
        "id": "T7pbywTFj10L",
        "outputId": "1ac584aa-f9bc-441b-b6b2-52664889517c"
      },
      "execution_count": null,
      "outputs": [
        {
          "output_type": "execute_result",
          "data": {
            "text/plain": [
              "array([[ 0.,  0., 10., 14.,  8.,  1.,  0.,  0.],\n",
              "       [ 0.,  2., 16., 14.,  6.,  1.,  0.,  0.],\n",
              "       [ 0.,  0., 15., 15.,  8., 15.,  0.,  0.],\n",
              "       [ 0.,  0.,  5., 16., 16., 10.,  0.,  0.],\n",
              "       [ 0.,  0., 12., 15., 15., 12.,  0.,  0.],\n",
              "       [ 0.,  4., 16.,  6.,  4., 16.,  6.,  0.],\n",
              "       [ 0.,  8., 16., 10.,  8., 16.,  8.,  0.],\n",
              "       [ 0.,  1.,  8., 12., 14., 12.,  1.,  0.]])"
            ]
          },
          "metadata": {},
          "execution_count": 22
        }
      ]
    },
    {
      "cell_type": "code",
      "source": [
        "# verifiquemos los posibles valores de cada imagen\n",
        "np.unique(digits.images[100])"
      ],
      "metadata": {
        "colab": {
          "base_uri": "https://localhost:8080/"
        },
        "id": "kyl-9Td7kLhc",
        "outputId": "db1a92b7-5674-4cfd-fa38-aeb942c6d8a6"
      },
      "execution_count": null,
      "outputs": [
        {
          "output_type": "execute_result",
          "data": {
            "text/plain": [
              "array([ 0.,  1.,  2.,  4.,  5.,  6.,  8.,  9., 10., 12., 13., 14., 15.,\n",
              "       16.])"
            ]
          },
          "metadata": {},
          "execution_count": 24
        }
      ]
    },
    {
      "cell_type": "code",
      "source": [
        "# Visualicemos algunas de estas imagenes \n",
        "fig, ax = plt.subplots(4,4, figsize = (5,5))\n",
        "for i , axi in enumerate(ax.flat):\n",
        "  axi.imshow(digits.images[i], cmap = \"binary\")\n",
        "  axi.set(xticks = [], yticks = [])\n",
        "\n",
        "plt.show()"
      ],
      "metadata": {
        "colab": {
          "base_uri": "https://localhost:8080/",
          "height": 306
        },
        "id": "qbt1T9DbkZWe",
        "outputId": "84223b4a-9b75-4378-febb-7679fd8b0b22"
      },
      "execution_count": null,
      "outputs": [
        {
          "output_type": "display_data",
          "data": {
            "text/plain": [
              "<Figure size 360x360 with 16 Axes>"
            ],
            "image/png": "[encoded data removed]"
          },
          "metadata": {}
        }
      ]
    },
    {
      "cell_type": "code",
      "source": [
        "# mostremos/visualicemos algunas imagenes con su correspondiente etiqueta\n",
        "plt.figure(figsize = (20,4))\n",
        "\n",
        "for index, (image, label) in enumerate(zip(digits.data[0:5], digits.target[0:5])):\n",
        "  plt.subplot(1,5, index +1)\n",
        "  plt.imshow(np.reshape(image, (8,8)), cmap = plt.cm.gray)\n",
        "  plt.title(\"Numero : %i\\n\" %label)"
      ],
      "metadata": {
        "colab": {
          "base_uri": "https://localhost:8080/",
          "height": 234
        },
        "id": "F4MS0Y99ldWt",
        "outputId": "f283191e-d836-4d81-ecd9-e0382e798a65"
      },
      "execution_count": null,
      "outputs": [
        {
          "output_type": "display_data",
          "data": {
            "text/plain": [
              "<Figure size 1440x288 with 5 Axes>"
            ],
            "image/png": "[encoded data removed]"
          },
          "metadata": {
            "needs_background": "light"
          }
        }
      ]
    },
    {
      "cell_type": "code",
      "source": [
        "# Veamos la distribucion de la variable dependiente: target \n",
        "import seaborn as sns \n",
        "import pandas as pd \n",
        "pd.DataFrame(digits.target).value_counts().sort_index().plot(kind = \"bar\")\n",
        "plt.show()"
      ],
      "metadata": {
        "colab": {
          "base_uri": "https://localhost:8080/",
          "height": 287
        },
        "id": "CTiDZE0Om3aK",
        "outputId": "53c8035b-f2c5-4c0b-d07d-55765690560a"
      },
      "execution_count": null,
      "outputs": [
        {
          "output_type": "display_data",
          "data": {
            "text/plain": [
              "<Figure size 432x288 with 1 Axes>"
            ],
            "image/png": "[encoded data removed]"
          },
          "metadata": {
            "needs_background": "light"
          }
        }
      ]
    }
  ]
}