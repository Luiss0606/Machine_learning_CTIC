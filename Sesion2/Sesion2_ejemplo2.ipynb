{
  "nbformat": 4,
  "nbformat_minor": 0,
  "metadata": {
    "colab": {
      "provenance": []
    },
    "kernelspec": {
      "name": "python3",
      "display_name": "Python 3"
    },
    "language_info": {
      "name": "python"
    }
  },
  "cells": [
    {
      "cell_type": "code",
      "execution_count": 1,
      "metadata": {
        "id": "NYhz6uUQuNCG"
      },
      "outputs": [],
      "source": [
        "# Carguemos modulos \n",
        "\n",
        "import os \n",
        "import numpy as np \n",
        "import pandas as pd \n",
        "import matplotlib.pyplot as plt\n",
        "import seaborn as sns\n",
        "\n",
        "# Carguemos un dataset \n",
        "penguins = pd.read_csv(\"https://raw.githubusercontent.com/robintux/Datasets4StackOverFlowQuestions/master/penguins_size.csv\")"
      ]
    },
    {
      "cell_type": "code",
      "source": [
        "# Preprocesamiento \n",
        "\n",
        "# Nombres de las columnas\n",
        "NombreVars = penguins.columns\n",
        "NombreVars"
      ],
      "metadata": {
        "colab": {
          "base_uri": "https://localhost:8080/"
        },
        "id": "ebBQjWeDvIUt",
        "outputId": "5cb1d022-2583-4b13-a976-88683a0765bc"
      },
      "execution_count": 3,
      "outputs": [
        {
          "output_type": "execute_result",
          "data": {
            "text/plain": [
              "Index(['species', 'island', 'culmen_length_mm', 'culmen_depth_mm',\n",
              "       'flipper_length_mm', 'body_mass_g', 'sex'],\n",
              "      dtype='object')"
            ]
          },
          "metadata": {},
          "execution_count": 3
        }
      ]
    },
    {
      "cell_type": "code",
      "source": [
        "# Dimensiones del dataframe \n",
        "penguins.shape"
      ],
      "metadata": {
        "colab": {
          "base_uri": "https://localhost:8080/"
        },
        "id": "tMKhqRn4vi_9",
        "outputId": "01469f12-56d5-432d-9c88-2adf8a0488d4"
      },
      "execution_count": 4,
      "outputs": [
        {
          "output_type": "execute_result",
          "data": {
            "text/plain": [
              "(344, 7)"
            ]
          },
          "metadata": {},
          "execution_count": 4
        }
      ]
    },
    {
      "cell_type": "code",
      "source": [
        "# Informacion de las columnas\n",
        "penguins.info()"
      ],
      "metadata": {
        "colab": {
          "base_uri": "https://localhost:8080/"
        },
        "id": "dvGhQBI5vrNK",
        "outputId": "869137c6-8fa8-46b5-9ad1-43e9b9545e08"
      },
      "execution_count": 5,
      "outputs": [
        {
          "output_type": "stream",
          "name": "stdout",
          "text": [
            "<class 'pandas.core.frame.DataFrame'>\n",
            "RangeIndex: 344 entries, 0 to 343\n",
            "Data columns (total 7 columns):\n",
            " #   Column             Non-Null Count  Dtype  \n",
            "---  ------             --------------  -----  \n",
            " 0   species            344 non-null    object \n",
            " 1   island             344 non-null    object \n",
            " 2   culmen_length_mm   342 non-null    float64\n",
            " 3   culmen_depth_mm    342 non-null    float64\n",
            " 4   flipper_length_mm  342 non-null    float64\n",
            " 5   body_mass_g        342 non-null    float64\n",
            " 6   sex                334 non-null    object \n",
            "dtypes: float64(4), object(3)\n",
            "memory usage: 18.9+ KB\n"
          ]
        }
      ]
    },
    {
      "cell_type": "code",
      "source": [
        "# Valores faltantes\n",
        "penguins.isna().sum()"
      ],
      "metadata": {
        "colab": {
          "base_uri": "https://localhost:8080/"
        },
        "id": "yLM1tJ_Vv14P",
        "outputId": "b233acea-0eb5-497d-dba1-ab4f33161150"
      },
      "execution_count": 6,
      "outputs": [
        {
          "output_type": "execute_result",
          "data": {
            "text/plain": [
              "species               0\n",
              "island                0\n",
              "culmen_length_mm      2\n",
              "culmen_depth_mm       2\n",
              "flipper_length_mm     2\n",
              "body_mass_g           2\n",
              "sex                  10\n",
              "dtype: int64"
            ]
          },
          "metadata": {},
          "execution_count": 6
        }
      ]
    },
    {
      "cell_type": "code",
      "source": [
        "# Exploremos los datos \n",
        "# Veamos algo de la informacion que provee la columnas species\n",
        "penguins.species.unique()"
      ],
      "metadata": {
        "colab": {
          "base_uri": "https://localhost:8080/"
        },
        "id": "sS6xJmzqwLSU",
        "outputId": "afadaede-7491-40ff-8c88-fd71ce7d9ca2"
      },
      "execution_count": 10,
      "outputs": [
        {
          "output_type": "execute_result",
          "data": {
            "text/plain": [
              "array(['Adelie', 'Chinstrap', 'Gentoo'], dtype=object)"
            ]
          },
          "metadata": {},
          "execution_count": 10
        }
      ]
    },
    {
      "cell_type": "code",
      "source": [
        "# veamos un countplot \n",
        "sns.countplot(x = \"species\", data = penguins)\n",
        "plt.show()"
      ],
      "metadata": {
        "colab": {
          "base_uri": "https://localhost:8080/",
          "height": 279
        },
        "id": "GSlbfQYzw0cN",
        "outputId": "ce461626-a39c-48c3-fc4d-4fc37a6cf782"
      },
      "execution_count": 13,
      "outputs": [
        {
          "output_type": "display_data",
          "data": {
            "text/plain": [
              "<Figure size 432x288 with 1 Axes>"
            ],
            "image/png": "[encoded data removed]"
          },
          "metadata": {
            "needs_background": "light"
          }
        }
      ]
    },
    {
      "cell_type": "code",
      "source": [
        "# Cuales son los posibles valores de la columna sex\n",
        "penguins.sex.unique()"
      ],
      "metadata": {
        "colab": {
          "base_uri": "https://localhost:8080/"
        },
        "id": "SySKWQQdxlX6",
        "outputId": "edd9c1a1-ad10-4916-e859-8a850b8e55eb"
      },
      "execution_count": 19,
      "outputs": [
        {
          "output_type": "execute_result",
          "data": {
            "text/plain": [
              "array(['MALE', 'FEMALE', nan, '.'], dtype=object)"
            ]
          },
          "metadata": {},
          "execution_count": 19
        }
      ]
    },
    {
      "cell_type": "code",
      "source": [
        "# Veamos un countplot de la columna sex\n",
        "sns.countplot(x =\"sex\", data =penguins)\n",
        "plt.show()"
      ],
      "metadata": {
        "colab": {
          "base_uri": "https://localhost:8080/",
          "height": 279
        },
        "id": "KdvPw06jxIyQ",
        "outputId": "4a0b04f0-dc00-48ba-c580-c1be1d7cfdcc"
      },
      "execution_count": 18,
      "outputs": [
        {
          "output_type": "display_data",
          "data": {
            "text/plain": [
              "<Figure size 432x288 with 1 Axes>"
            ],
            "image/png": "[encoded data removed]"
          },
          "metadata": {
            "needs_background": "light"
          }
        }
      ]
    },
    {
      "cell_type": "code",
      "source": [
        "# veamos los posibles valores de la columna island\n",
        "penguins[\"island\"].unique()"
      ],
      "metadata": {
        "colab": {
          "base_uri": "https://localhost:8080/"
        },
        "id": "NLY9vdyjx3y3",
        "outputId": "1fa09ea1-71c7-41d0-b6b2-4046196bdc8c"
      },
      "execution_count": 23,
      "outputs": [
        {
          "output_type": "execute_result",
          "data": {
            "text/plain": [
              "array(['Torgersen', 'Biscoe', 'Dream'], dtype=object)"
            ]
          },
          "metadata": {},
          "execution_count": 23
        }
      ]
    },
    {
      "cell_type": "code",
      "source": [
        "sns.countplot(x = \"island\", data = penguins)\n",
        "plt.show()"
      ],
      "metadata": {
        "colab": {
          "base_uri": "https://localhost:8080/",
          "height": 279
        },
        "id": "jox3VkYyyYIR",
        "outputId": "71910ceb-b463-4049-c00c-fb1c900d3c98"
      },
      "execution_count": 25,
      "outputs": [
        {
          "output_type": "display_data",
          "data": {
            "text/plain": [
              "<Figure size 432x288 with 1 Axes>"
            ],
            "image/png": "[encoded data removed]"
          },
          "metadata": {
            "needs_background": "light"
          }
        }
      ]
    },
    {
      "cell_type": "code",
      "source": [
        "# Veamos que podemos hacer con los valores faltantes\n",
        "# la columna sex tiene 10 valores faltantes\n",
        "# rellenar los elementos faltantes con el valor \"FEMALE\"\n",
        "penguins[\"sex\"] = penguins[\"sex\"].fillna(\"FEMALE\")\n",
        "\n",
        "# La columna sex tiene algunos valores \".\"\n",
        "# Encontremos la informacion relacionada con ese valor \".\" \n",
        "# en la columna sex : Deseo recuperar los indices cuyo valor\n",
        "# en la columna sex es un \".\"\n",
        "penguins.loc[penguins.sex == \".\", :]\n"
      ],
      "metadata": {
        "colab": {
          "base_uri": "https://localhost:8080/",
          "height": 80
        },
        "id": "MNFFzIOtywNV",
        "outputId": "5a01cbca-9e4a-4eeb-92fc-1b7a3f454ded"
      },
      "execution_count": 28,
      "outputs": [
        {
          "output_type": "execute_result",
          "data": {
            "text/plain": [
              "    species  island  culmen_length_mm  culmen_depth_mm  flipper_length_mm  \\\n",
              "336  Gentoo  Biscoe              44.5             15.7              217.0   \n",
              "\n",
              "     body_mass_g sex  \n",
              "336       4875.0   .  "
            ],
            "text/html": [
              "\n",
              "  <div id=\"df-14cf7dff-0f26-4a16-924b-b98d03ffaa0a\">\n",
              "    <div class=\"colab-df-container\">\n",
              "      <div>\n",
              "<style scoped>\n",
              "    .dataframe tbody tr th:only-of-type {\n",
              "        vertical-align: middle;\n",
              "    }\n",
              "\n",
              "    .dataframe tbody tr th {\n",
              "        vertical-align: top;\n",
              "    }\n",
              "\n",
              "    .dataframe thead th {\n",
              "        text-align: right;\n",
              "    }\n",
              "</style>\n",
              "<table border=\"1\" class=\"dataframe\">\n",
              "  <thead>\n",
              "    <tr style=\"text-align: right;\">\n",
              "      <th></th>\n",
              "      <th>species</th>\n",
              "      <th>island</th>\n",
              "      <th>culmen_length_mm</th>\n",
              "      <th>culmen_depth_mm</th>\n",
              "      <th>flipper_length_mm</th>\n",
              "      <th>body_mass_g</th>\n",
              "      <th>sex</th>\n",
              "    </tr>\n",
              "  </thead>\n",
              "  <tbody>\n",
              "    <tr>\n",
              "      <th>336</th>\n",
              "      <td>Gentoo</td>\n",
              "      <td>Biscoe</td>\n",
              "      <td>44.5</td>\n",
              "      <td>15.7</td>\n",
              "      <td>217.0</td>\n",
              "      <td>4875.0</td>\n",
              "      <td>.</td>\n",
              "    </tr>\n",
              "  </tbody>\n",
              "</table>\n",
              "</div>\n",
              "      <button class=\"colab-df-convert\" onclick=\"convertToInteractive('df-14cf7dff-0f26-4a16-924b-b98d03ffaa0a')\"\n",
              "              title=\"Convert this dataframe to an interactive table.\"\n",
              "              style=\"display:none;\">\n",
              "        \n",
              "  <svg xmlns=\"http://www.w3.org/2000/svg\" height=\"24px\"viewBox=\"0 0 24 24\"\n",
              "       width=\"24px\">\n",
              "    <path d=\"M0 0h24v24H0V0z\" fill=\"none\"/>\n",
              "    <path d=\"M18.56 5.44l.94 2.06.94-2.06 2.06-.94-2.06-.94-.94-2.06-.94 2.06-2.06.94zm-11 1L8.5 8.5l.94-2.06 2.06-.94-2.06-.94L8.5 2.5l-.94 2.06-2.06.94zm10 10l.94 2.06.94-2.06 2.06-.94-2.06-.94-.94-2.06-.94 2.06-2.06.94z\"/><path d=\"M17.41 7.96l-1.37-1.37c-.4-.4-.92-.59-1.43-.59-.52 0-1.04.2-1.43.59L10.3 9.45l-7.72 7.72c-.78.78-.78 2.05 0 2.83L4 21.41c.39.39.9.59 1.41.59.51 0 1.02-.2 1.41-.59l7.78-7.78 2.81-2.81c.8-.78.8-2.07 0-2.86zM5.41 20L4 18.59l7.72-7.72 1.47 1.35L5.41 20z\"/>\n",
              "  </svg>\n",
              "      </button>\n",
              "      \n",
              "  <style>\n",
              "    .colab-df-container {\n",
              "      display:flex;\n",
              "      flex-wrap:wrap;\n",
              "      gap: 12px;\n",
              "    }\n",
              "\n",
              "    .colab-df-convert {\n",
              "      background-color: #E8F0FE;\n",
              "      border: none;\n",
              "      border-radius: 50%;\n",
              "      cursor: pointer;\n",
              "      display: none;\n",
              "      fill: #1967D2;\n",
              "      height: 32px;\n",
              "      padding: 0 0 0 0;\n",
              "      width: 32px;\n",
              "    }\n",
              "\n",
              "    .colab-df-convert:hover {\n",
              "      background-color: #E2EBFA;\n",
              "      box-shadow: 0px 1px 2px rgba(60, 64, 67, 0.3), 0px 1px 3px 1px rgba(60, 64, 67, 0.15);\n",
              "      fill: #174EA6;\n",
              "    }\n",
              "\n",
              "    [theme=dark] .colab-df-convert {\n",
              "      background-color: #3B4455;\n",
              "      fill: #D2E3FC;\n",
              "    }\n",
              "\n",
              "    [theme=dark] .colab-df-convert:hover {\n",
              "      background-color: #434B5C;\n",
              "      box-shadow: 0px 1px 3px 1px rgba(0, 0, 0, 0.15);\n",
              "      filter: drop-shadow(0px 1px 2px rgba(0, 0, 0, 0.3));\n",
              "      fill: #FFFFFF;\n",
              "    }\n",
              "  </style>\n",
              "\n",
              "      <script>\n",
              "        const buttonEl =\n",
              "          document.querySelector('#df-14cf7dff-0f26-4a16-924b-b98d03ffaa0a button.colab-df-convert');\n",
              "        buttonEl.style.display =\n",
              "          google.colab.kernel.accessAllowed ? 'block' : 'none';\n",
              "\n",
              "        async function convertToInteractive(key) {\n",
              "          const element = document.querySelector('#df-14cf7dff-0f26-4a16-924b-b98d03ffaa0a');\n",
              "          const dataTable =\n",
              "            await google.colab.kernel.invokeFunction('convertToInteractive',\n",
              "                                                     [key], {});\n",
              "          if (!dataTable) return;\n",
              "\n",
              "          const docLinkHtml = 'Like what you see? Visit the ' +\n",
              "            '<a target=\"_blank\" href=https://colab.research.google.com/notebooks/data_table.ipynb>data table notebook</a>'\n",
              "            + ' to learn more about interactive tables.';\n",
              "          element.innerHTML = '';\n",
              "          dataTable['output_type'] = 'display_data';\n",
              "          await google.colab.output.renderOutput(dataTable, element);\n",
              "          const docLink = document.createElement('div');\n",
              "          docLink.innerHTML = docLinkHtml;\n",
              "          element.appendChild(docLink);\n",
              "        }\n",
              "      </script>\n",
              "    </div>\n",
              "  </div>\n",
              "  "
            ]
          },
          "metadata": {},
          "execution_count": 28
        }
      ]
    },
    {
      "cell_type": "code",
      "source": [
        "# Opto por eliminar la observacion que corresponde al valor\n",
        "# \".\" de la columna sex\n",
        "penguins = penguins.drop([336], axis = 0)"
      ],
      "metadata": {
        "id": "LOKhiWOw0A8f"
      },
      "execution_count": 29,
      "outputs": []
    },
    {
      "cell_type": "code",
      "source": [
        "# Rellenemos los valores faltantes de las columnas con informacion cuantitativa \n",
        "penguins.culmen_length_mm = penguins.culmen_length_mm.fillna(penguins.culmen_length_mm.mean())\n",
        "penguins[\"culmen_depth_mm\"] = penguins[\"culmen_depth_mm\"].fillna(penguins[\"culmen_depth_mm\"].max())\n",
        "penguins.flipper_length_mm = penguins.flipper_length_mm.fillna(penguins.flipper_length_mm.min())\n",
        "penguins[\"body_mass_g\"] = penguins[\"body_mass_g\"].fillna(penguins[\"body_mass_g\"].quantile(0.45))\n",
        "penguins.isna().sum()"
      ],
      "metadata": {
        "colab": {
          "base_uri": "https://localhost:8080/"
        },
        "id": "Lr_HnhTv0eLT",
        "outputId": "1bd03ed9-54d4-4ba2-f74e-963e1ddcad24"
      },
      "execution_count": 34,
      "outputs": [
        {
          "output_type": "execute_result",
          "data": {
            "text/plain": [
              "species              0\n",
              "island               0\n",
              "culmen_length_mm     0\n",
              "culmen_depth_mm      0\n",
              "flipper_length_mm    0\n",
              "body_mass_g          0\n",
              "sex                  0\n",
              "dtype: int64"
            ]
          },
          "metadata": {},
          "execution_count": 34
        }
      ]
    },
    {
      "cell_type": "code",
      "source": [
        "# Grafico Bidimensional : COnsidere dos variables\n",
        "# x = variable categorica/cualitativa (sex, island, species)\n",
        "# y = variable cuantitativa (culmen_length_mm,culmen_depth_mm,flipper_length_mm , body_mass_g  )\n",
        "\n",
        "# catplot : veamos como se comporta la variable body_ass_g en funcion del sex\n",
        "plt.figure(num = 1)\n",
        "sns.catplot(x = \"sex\",\n",
        "            y = \"body_mass_g\",\n",
        "            kind = \"bar\",\n",
        "            data = penguins,\n",
        "            estimator= np.min)\n",
        "plt.xlabel(\"Variable Sexo\")\n",
        "plt.ylabel(\"Peso\")\n",
        "plt.show()\n",
        "\n",
        "plt.figure(num = 2)\n",
        "sns.catplot(x = \"sex\",\n",
        "            y = \"body_mass_g\",\n",
        "            kind = \"bar\",\n",
        "            data = penguins,\n",
        "            estimator= np.max)\n",
        "plt.xlabel(\"Variable Sexo\")\n",
        "plt.ylabel(\"Peso\")\n",
        "plt.show()"
      ],
      "metadata": {
        "colab": {
          "base_uri": "https://localhost:8080/",
          "height": 756
        },
        "id": "3iA230Ts1fbn",
        "outputId": "10efd66b-1df6-4cdf-b304-6a692620c778"
      },
      "execution_count": 41,
      "outputs": [
        {
          "output_type": "display_data",
          "data": {
            "text/plain": [
              "<Figure size 432x288 with 0 Axes>"
            ]
          },
          "metadata": {}
        },
        {
          "output_type": "display_data",
          "data": {
            "text/plain": [
              "<Figure size 360x360 with 1 Axes>"
            ],
            "image/png": "[encoded data removed]"
          },
          "metadata": {
            "needs_background": "light"
          }
        },
        {
          "output_type": "display_data",
          "data": {
            "text/plain": [
              "<Figure size 432x288 with 0 Axes>"
            ]
          },
          "metadata": {}
        },
        {
          "output_type": "display_data",
          "data": {
            "text/plain": [
              "<Figure size 360x360 with 1 Axes>"
            ],
            "image/png": "[encoded data removed]"
          },
          "metadata": {
            "needs_background": "light"
          }
        }
      ]
    },
    {
      "cell_type": "code",
      "source": [
        "# veamos la documentacion de sns.catplot\n",
        "help(sns.catplot)"
      ],
      "metadata": {
        "colab": {
          "base_uri": "https://localhost:8080/"
        },
        "id": "saZWtvHR2bGO",
        "outputId": "d561cc2f-909c-42dd-f511-f311b737f3d4"
      },
      "execution_count": 36,
      "outputs": [
        {
          "output_type": "stream",
          "name": "stdout",
          "text": [
            "Help on function catplot in module seaborn.categorical:\n",
            "\n",
            "catplot(*, x=None, y=None, hue=None, data=None, row=None, col=None, col_wrap=None, estimator=<function mean at 0x7f53fbdd9af0>, ci=95, n_boot=1000, units=None, seed=None, order=None, hue_order=None, row_order=None, col_order=None, kind='strip', height=5, aspect=1, orient=None, color=None, palette=None, legend=True, legend_out=True, sharex=True, sharey=True, margin_titles=False, facet_kws=None, **kwargs)\n",
            "    Figure-level interface for drawing categorical plots onto a FacetGrid.\n",
            "    \n",
            "    This function provides access to several axes-level functions that\n",
            "    show the relationship between a numerical and one or more categorical\n",
            "    variables using one of several visual representations. The ``kind``\n",
            "    parameter selects the underlying axes-level function to use:\n",
            "    \n",
            "    Categorical scatterplots:\n",
            "    \n",
            "    - :func:`stripplot` (with ``kind=\"strip\"``; the default)\n",
            "    - :func:`swarmplot` (with ``kind=\"swarm\"``)\n",
            "    \n",
            "    Categorical distribution plots:\n",
            "    \n",
            "    - :func:`boxplot` (with ``kind=\"box\"``)\n",
            "    - :func:`violinplot` (with ``kind=\"violin\"``)\n",
            "    - :func:`boxenplot` (with ``kind=\"boxen\"``)\n",
            "    \n",
            "    Categorical estimate plots:\n",
            "    \n",
            "    - :func:`pointplot` (with ``kind=\"point\"``)\n",
            "    - :func:`barplot` (with ``kind=\"bar\"``)\n",
            "    - :func:`countplot` (with ``kind=\"count\"``)\n",
            "    \n",
            "    Extra keyword arguments are passed to the underlying function, so you\n",
            "    should refer to the documentation for each to see kind-specific options.\n",
            "    \n",
            "    Note that unlike when using the axes-level functions directly, data must be\n",
            "    passed in a long-form DataFrame with variables specified by passing strings\n",
            "    to ``x``, ``y``, ``hue``, etc.\n",
            "    \n",
            "    As in the case with the underlying plot functions, if variables have a\n",
            "    ``categorical`` data type, the levels of the categorical variables, and\n",
            "    their order will be inferred from the objects. Otherwise you may have to\n",
            "    use alter the dataframe sorting or use the function parameters (``orient``,\n",
            "    ``order``, ``hue_order``, etc.) to set up the plot correctly.\n",
            "    \n",
            "    This function always treats one of the variables as categorical and\n",
            "    draws data at ordinal positions (0, 1, ... n) on the relevant axis, even\n",
            "    when the data has a numeric or date type.\n",
            "    \n",
            "    See the :ref:`tutorial <categorical_tutorial>` for more information.    \n",
            "    \n",
            "    After plotting, the :class:`FacetGrid` with the plot is returned and can\n",
            "    be used directly to tweak supporting plot details or add other layers.\n",
            "    \n",
            "    Parameters\n",
            "    ----------\n",
            "    x, y, hue : names of variables in ``data``\n",
            "        Inputs for plotting long-form data. See examples for interpretation.        \n",
            "    data : DataFrame\n",
            "        Long-form (tidy) dataset for plotting. Each column should correspond\n",
            "        to a variable, and each row should correspond to an observation.    \n",
            "    row, col : names of variables in ``data``, optional\n",
            "        Categorical variables that will determine the faceting of the grid.\n",
            "    col_wrap : int\n",
            "        \"Wrap\" the column variable at this width, so that the column facets\n",
            "        span multiple rows. Incompatible with a ``row`` facet.    \n",
            "    estimator : callable that maps vector -> scalar, optional\n",
            "        Statistical function to estimate within each categorical bin.\n",
            "    ci : float or \"sd\" or None, optional\n",
            "        Size of confidence intervals to draw around estimated values.  If\n",
            "        \"sd\", skip bootstrapping and draw the standard deviation of the\n",
            "        observations. If ``None``, no bootstrapping will be performed, and\n",
            "        error bars will not be drawn.\n",
            "    n_boot : int, optional\n",
            "        Number of bootstrap iterations to use when computing confidence\n",
            "        intervals.\n",
            "    units : name of variable in ``data`` or vector data, optional\n",
            "        Identifier of sampling units, which will be used to perform a\n",
            "        multilevel bootstrap and account for repeated measures design.\n",
            "    seed : int, numpy.random.Generator, or numpy.random.RandomState, optional\n",
            "        Seed or random number generator for reproducible bootstrapping.    \n",
            "    order, hue_order : lists of strings, optional\n",
            "        Order to plot the categorical levels in, otherwise the levels are\n",
            "        inferred from the data objects.        \n",
            "    row_order, col_order : lists of strings, optional\n",
            "        Order to organize the rows and/or columns of the grid in, otherwise the\n",
            "        orders are inferred from the data objects.\n",
            "    kind : str, optional\n",
            "        The kind of plot to draw, corresponds to the name of a categorical\n",
            "        axes-level plotting function. Options are: \"strip\", \"swarm\", \"box\", \"violin\",\n",
            "        \"boxen\", \"point\", \"bar\", or \"count\".\n",
            "    height : scalar\n",
            "        Height (in inches) of each facet. See also: ``aspect``.    \n",
            "    aspect : scalar\n",
            "        Aspect ratio of each facet, so that ``aspect * height`` gives the width\n",
            "        of each facet in inches.    \n",
            "    orient : \"v\" | \"h\", optional\n",
            "        Orientation of the plot (vertical or horizontal). This is usually\n",
            "        inferred based on the type of the input variables, but it can be used\n",
            "        to resolve ambiguity when both `x` and `y` are numeric or when\n",
            "        plotting wide-form data.    \n",
            "    color : matplotlib color, optional\n",
            "        Color for all of the elements, or seed for a gradient palette.    \n",
            "    palette : palette name, list, or dict\n",
            "        Colors to use for the different levels of the ``hue`` variable. Should\n",
            "        be something that can be interpreted by :func:`color_palette`, or a\n",
            "        dictionary mapping hue levels to matplotlib colors.    \n",
            "    legend : bool, optional\n",
            "        If ``True`` and there is a ``hue`` variable, draw a legend on the plot.\n",
            "    legend_out : bool\n",
            "        If ``True``, the figure size will be extended, and the legend will be\n",
            "        drawn outside the plot on the center right.    \n",
            "    share{x,y} : bool, 'col', or 'row' optional\n",
            "        If true, the facets will share y axes across columns and/or x axes\n",
            "        across rows.    \n",
            "    margin_titles : bool\n",
            "        If ``True``, the titles for the row variable are drawn to the right of\n",
            "        the last column. This option is experimental and may not work in all\n",
            "        cases.    \n",
            "    facet_kws : dict, optional\n",
            "        Dictionary of other keyword arguments to pass to :class:`FacetGrid`.\n",
            "    kwargs : key, value pairings\n",
            "        Other keyword arguments are passed through to the underlying plotting\n",
            "        function.\n",
            "    \n",
            "    Returns\n",
            "    -------\n",
            "    g : :class:`FacetGrid`\n",
            "        Returns the :class:`FacetGrid` object with the plot on it for further\n",
            "        tweaking.\n",
            "    \n",
            "    Examples\n",
            "    --------\n",
            "    \n",
            "    Draw a single facet to use the :class:`FacetGrid` legend placement:\n",
            "    \n",
            "    .. plot::\n",
            "        :context: close-figs\n",
            "    \n",
            "        >>> import seaborn as sns\n",
            "        >>> sns.set_theme(style=\"ticks\")\n",
            "        >>> exercise = sns.load_dataset(\"exercise\")\n",
            "        >>> g = sns.catplot(x=\"time\", y=\"pulse\", hue=\"kind\", data=exercise)\n",
            "    \n",
            "    Use a different plot kind to visualize the same data:\n",
            "    \n",
            "    .. plot::\n",
            "        :context: close-figs\n",
            "    \n",
            "        >>> g = sns.catplot(x=\"time\", y=\"pulse\", hue=\"kind\",\n",
            "        ...                data=exercise, kind=\"violin\")\n",
            "    \n",
            "    Facet along the columns to show a third categorical variable:\n",
            "    \n",
            "    .. plot::\n",
            "        :context: close-figs\n",
            "    \n",
            "        >>> g = sns.catplot(x=\"time\", y=\"pulse\", hue=\"kind\",\n",
            "        ...                 col=\"diet\", data=exercise)\n",
            "    \n",
            "    Use a different height and aspect ratio for the facets:\n",
            "    \n",
            "    .. plot::\n",
            "        :context: close-figs\n",
            "    \n",
            "        >>> g = sns.catplot(x=\"time\", y=\"pulse\", hue=\"kind\",\n",
            "        ...                 col=\"diet\", data=exercise,\n",
            "        ...                 height=5, aspect=.8)\n",
            "    \n",
            "    Make many column facets and wrap them into the rows of the grid:\n",
            "    \n",
            "    .. plot::\n",
            "        :context: close-figs\n",
            "    \n",
            "        >>> titanic = sns.load_dataset(\"titanic\")\n",
            "        >>> g = sns.catplot(x=\"alive\", col=\"deck\", col_wrap=4,\n",
            "        ...                 data=titanic[titanic.deck.notnull()],\n",
            "        ...                 kind=\"count\", height=2.5, aspect=.8)\n",
            "    \n",
            "    Plot horizontally and pass other keyword arguments to the plot function:\n",
            "    \n",
            "    .. plot::\n",
            "        :context: close-figs\n",
            "    \n",
            "        >>> g = sns.catplot(x=\"age\", y=\"embark_town\",\n",
            "        ...                 hue=\"sex\", row=\"class\",\n",
            "        ...                 data=titanic[titanic.embark_town.notnull()],\n",
            "        ...                 orient=\"h\", height=2, aspect=3, palette=\"Set3\",\n",
            "        ...                 kind=\"violin\", dodge=True, cut=0, bw=.2)\n",
            "    \n",
            "    Use methods on the returned :class:`FacetGrid` to tweak the presentation:\n",
            "    \n",
            "    .. plot::\n",
            "        :context: close-figs\n",
            "    \n",
            "        >>> g = sns.catplot(x=\"who\", y=\"survived\", col=\"class\",\n",
            "        ...                 data=titanic, saturation=.5,\n",
            "        ...                 kind=\"bar\", ci=None, aspect=.6)\n",
            "        >>> (g.set_axis_labels(\"\", \"Survival Rate\")\n",
            "        ...   .set_xticklabels([\"Men\", \"Women\", \"Children\"])\n",
            "        ...   .set_titles(\"{col_name} {col_var}\")\n",
            "        ...   .set(ylim=(0, 1))\n",
            "        ...   .despine(left=True))  #doctest: +ELLIPSIS\n",
            "        <seaborn.axisgrid.FacetGrid object at 0x...>\n",
            "\n"
          ]
        }
      ]
    }
  ]
}