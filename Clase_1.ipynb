{
  "nbformat": 4,
  "nbformat_minor": 0,
  "metadata": {
    "colab": {
      "provenance": []
    },
    "kernelspec": {
      "name": "python3",
      "display_name": "Python 3"
    },
    "language_info": {
      "name": "python"
    }
  },
  "cells": [
    {
      "cell_type": "code",
      "execution_count": 29,
      "metadata": {
        "id": "4RiYh-GIQAEY"
      },
      "outputs": [],
      "source": [
        "# Carga de modulos \n",
        "# \n",
        "# OS : rutinas para interactuar con el sistema operativo\n",
        "import os \n",
        "\n",
        "# NUmpy : Implementa varias cosas del tema matricial \n",
        "import numpy as np\n",
        "\n",
        "# Visualizacion\n",
        "import matplotlib.pyplot as plt\n",
        "import seaborn as sns\n",
        "\n",
        "# Pandas : Preprocesamiento de informacion \n",
        "import pandas as pd \n",
        "\n",
        "# MOdulo re para procesar la columna Age\n",
        "import re "
      ]
    },
    {
      "cell_type": "code",
      "source": [
        "# Carguemos nuestro dataset \n",
        "df = pd.read_csv(\"https://raw.githubusercontent.com/robintux/Datasets4StackOverFlowQuestions/master/COVID19_clinical_trials.csv\")"
      ],
      "metadata": {
        "id": "YfkUYRAyV1B2"
      },
      "execution_count": 2,
      "outputs": []
    },
    {
      "cell_type": "code",
      "source": [
        "# Preprocesamiento \n",
        "\n",
        "# Nombres de las columnas \n",
        "df.columns"
      ],
      "metadata": {
        "colab": {
          "base_uri": "https://localhost:8080/"
        },
        "id": "yAhioP30WJcL",
        "outputId": "a5d7746f-7e96-4831-ca34-8a9b7e4df8cf"
      },
      "execution_count": 6,
      "outputs": [
        {
          "output_type": "execute_result",
          "data": {
            "text/plain": [
              "Index(['Rank', 'NCT Number', 'Title', 'Acronym', 'Status', 'Study Results',\n",
              "       'Conditions', 'Interventions', 'Outcome Measures',\n",
              "       'Sponsor/Collaborators', 'Gender', 'Age', 'Phases', 'Enrollment',\n",
              "       'Funded Bys', 'Study Type', 'Study Designs', 'Other IDs', 'Start Date',\n",
              "       'Primary Completion Date', 'Completion Date', 'First Posted',\n",
              "       'Results First Posted', 'Last Update Posted', 'Locations',\n",
              "       'Study Documents', 'URL'],\n",
              "      dtype='object')"
            ]
          },
          "metadata": {},
          "execution_count": 6
        }
      ]
    },
    {
      "cell_type": "code",
      "source": [
        "# Los tipos de dato de cada columna\n",
        "df.dtypes"
      ],
      "metadata": {
        "colab": {
          "base_uri": "https://localhost:8080/"
        },
        "id": "rxx3JYAPW9m3",
        "outputId": "c8aeae6b-8716-4817-a722-35cffedf72b1"
      },
      "execution_count": 8,
      "outputs": [
        {
          "output_type": "execute_result",
          "data": {
            "text/plain": [
              "Rank                         int64\n",
              "NCT Number                  object\n",
              "Title                       object\n",
              "Acronym                     object\n",
              "Status                      object\n",
              "Study Results               object\n",
              "Conditions                  object\n",
              "Interventions               object\n",
              "Outcome Measures            object\n",
              "Sponsor/Collaborators       object\n",
              "Gender                      object\n",
              "Age                         object\n",
              "Phases                      object\n",
              "Enrollment                 float64\n",
              "Funded Bys                  object\n",
              "Study Type                  object\n",
              "Study Designs               object\n",
              "Other IDs                   object\n",
              "Start Date                  object\n",
              "Primary Completion Date     object\n",
              "Completion Date             object\n",
              "First Posted                object\n",
              "Results First Posted        object\n",
              "Last Update Posted          object\n",
              "Locations                   object\n",
              "Study Documents             object\n",
              "URL                         object\n",
              "dtype: object"
            ]
          },
          "metadata": {},
          "execution_count": 8
        }
      ]
    },
    {
      "cell_type": "code",
      "source": [
        "# A partir de lo visto  pensamos que las columnas \n",
        "# Start Date                  object\n",
        "# Primary Completion Date     object\n",
        "# Completion Date             object\n",
        "# First Posted                object\n",
        "# Results First Posted        object (Verificar si todos los elementos son NaN)\n",
        "# Last Update Posted          object\n",
        "# Tienen informacion temporal \n",
        "\n",
        "# Transformar estas columnas a datos de tipo temporal (datetime)\n",
        "\n",
        "df[\"Start Date\"] =pd.to_datetime(df[\"Start Date\"])\n",
        "df[\"Primary Completion Date\"] = pd.to_datetime(df[\"Primary Completion Date\"])\n",
        "df[\"Completion Date\"] = pd.to_datetime(df[\"Completion Date\"])\n",
        "df[\"First Posted\"] = pd.to_datetime(df[\"First Posted\"])\n",
        "df[\"Results First Posted\"] = pd.to_datetime(df[\"Results First Posted\"])\n",
        "df[\"Last Update Posted\"] = pd.to_datetime(df[\"Last Update Posted\"])"
      ],
      "metadata": {
        "id": "RjFEA7TnXWLm"
      },
      "execution_count": 19,
      "outputs": []
    },
    {
      "cell_type": "code",
      "source": [
        "# Verifiquemos los cambios\n",
        "df.dtypes"
      ],
      "metadata": {
        "colab": {
          "base_uri": "https://localhost:8080/"
        },
        "id": "yHVNti43Y3VA",
        "outputId": "7f625e35-1ee7-4b29-fbcc-2780bac4620d"
      },
      "execution_count": 18,
      "outputs": [
        {
          "output_type": "execute_result",
          "data": {
            "text/plain": [
              "Rank                                int64\n",
              "NCT Number                         object\n",
              "Title                              object\n",
              "Acronym                            object\n",
              "Status                             object\n",
              "Study Results                      object\n",
              "Conditions                         object\n",
              "Interventions                      object\n",
              "Outcome Measures                   object\n",
              "Sponsor/Collaborators              object\n",
              "Gender                             object\n",
              "Age                                object\n",
              "Phases                             object\n",
              "Enrollment                        float64\n",
              "Funded Bys                         object\n",
              "Study Type                         object\n",
              "Study Designs                      object\n",
              "Other IDs                          object\n",
              "Start Date                 datetime64[ns]\n",
              "Primary Completion Date            object\n",
              "Completion Date            datetime64[ns]\n",
              "First Posted               datetime64[ns]\n",
              "Results First Posted       datetime64[ns]\n",
              "Last Update Posted         datetime64[ns]\n",
              "Locations                          object\n",
              "Study Documents                    object\n",
              "URL                                object\n",
              "Primary Completio Date     datetime64[ns]\n",
              "dtype: object"
            ]
          },
          "metadata": {},
          "execution_count": 18
        }
      ]
    },
    {
      "cell_type": "code",
      "source": [
        "# Explorar los valores perdidos : Contar los NA/NaN en cada columna \n",
        "(df.isna().sum()/df.shape[0])*100"
      ],
      "metadata": {
        "colab": {
          "base_uri": "https://localhost:8080/"
        },
        "id": "gbHIJ8cYZC2N",
        "outputId": "5b268d09-170c-4409-d065-85b6b3a8bd9c"
      },
      "execution_count": 22,
      "outputs": [
        {
          "output_type": "execute_result",
          "data": {
            "text/plain": [
              "Rank                        0.000000\n",
              "NCT Number                  0.000000\n",
              "Title                       0.000000\n",
              "Acronym                    57.115684\n",
              "Status                      0.000000\n",
              "Study Results               0.000000\n",
              "Conditions                  0.000000\n",
              "Interventions              15.320768\n",
              "Outcome Measures            0.605222\n",
              "Sponsor/Collaborators       0.000000\n",
              "Gender                      0.172921\n",
              "Age                         0.000000\n",
              "Phases                     42.555767\n",
              "Enrollment                  0.587930\n",
              "Funded Bys                  0.000000\n",
              "Study Type                  0.000000\n",
              "Study Designs               0.605222\n",
              "Other IDs                   0.017292\n",
              "Start Date                  0.587930\n",
              "Primary Completion Date     0.622514\n",
              "Completion Date             0.622514\n",
              "First Posted                0.000000\n",
              "Results First Posted       99.377486\n",
              "Last Update Posted          0.000000\n",
              "Locations                  10.115857\n",
              "Study Documents            96.852845\n",
              "URL                         0.000000\n",
              "Primary Completio Date      0.622514\n",
              "dtype: float64"
            ]
          },
          "metadata": {},
          "execution_count": 22
        }
      ]
    },
    {
      "cell_type": "code",
      "source": [
        "# Exploremos las columnas Gender (Variable cualitativa) y Age (Variable cuantitativa)\n",
        "# \n",
        "# Si Gender es cualitativa, entonces me interesa saber cuales son los posibles \n",
        "# valores de esa columna \n",
        "df.Gender.unique()"
      ],
      "metadata": {
        "colab": {
          "base_uri": "https://localhost:8080/"
        },
        "id": "_wc656c4Zg01",
        "outputId": "d234a0b8-c886-4019-cb7e-3272e1aff1e6"
      },
      "execution_count": 23,
      "outputs": [
        {
          "output_type": "execute_result",
          "data": {
            "text/plain": [
              "array(['All', 'Female', 'Male', nan], dtype=object)"
            ]
          },
          "metadata": {},
          "execution_count": 23
        }
      ]
    },
    {
      "cell_type": "code",
      "source": [
        "# Deseo observar graficamente la distribucion de los valores en la columna Gender\n",
        "# Usemos un countplot de seaborn\n",
        "sns.countplot(\"Gender\", data = df)"
      ],
      "metadata": {
        "colab": {
          "base_uri": "https://localhost:8080/",
          "height": 351
        },
        "id": "X4A4x14xan11",
        "outputId": "cb4e3df4-f050-4276-ff50-860255dfdabc"
      },
      "execution_count": 24,
      "outputs": [
        {
          "output_type": "stream",
          "name": "stderr",
          "text": [
            "/usr/local/lib/python3.8/dist-packages/seaborn/_decorators.py:36: FutureWarning: Pass the following variable as a keyword arg: x. From version 0.12, the only valid positional argument will be `data`, and passing other arguments without an explicit keyword will result in an error or misinterpretation.\n",
            "  warnings.warn(\n"
          ]
        },
        {
          "output_type": "execute_result",
          "data": {
            "text/plain": [
              "<matplotlib.axes._subplots.AxesSubplot at 0x7f7f58684c70>"
            ]
          },
          "metadata": {},
          "execution_count": 24
        },
        {
          "output_type": "display_data",
          "data": {
            "text/plain": [
              "<Figure size 432x288 with 1 Axes>"
            ],
            "image/png": "[encoded data removed]"
          },
          "metadata": {
            "needs_background": "light"
          }
        }
      ]
    },
    {
      "cell_type": "code",
      "source": [
        "# Conclusion de este grafico : No es posible realizar una segmentacion usando la\n",
        "# variable genero "
      ],
      "metadata": {
        "id": "EYme_uExbEa6"
      },
      "execution_count": null,
      "outputs": []
    },
    {
      "cell_type": "code",
      "source": [
        "# Columna Age\n",
        "df.Age"
      ],
      "metadata": {
        "colab": {
          "base_uri": "https://localhost:8080/"
        },
        "id": "7YV-bDD1clpQ",
        "outputId": "2dc10666-fc2b-4f25-82e0-85ba2b51495f"
      },
      "execution_count": 25,
      "outputs": [
        {
          "output_type": "execute_result",
          "data": {
            "text/plain": [
              "0          18 Years and older   (Adult, Older Adult)\n",
              "1          18 Years and older   (Adult, Older Adult)\n",
              "2          18 Years and older   (Adult, Older Adult)\n",
              "3                          Child, Adult, Older Adult\n",
              "4                     18 Years to 48 Years   (Adult)\n",
              "                            ...                     \n",
              "5778    21 Years to 100 Years   (Adult, Older Adult)\n",
              "5779           3 Months to 18 Years   (Child, Adult)\n",
              "5780                  18 Years to 64 Years   (Adult)\n",
              "5781            8 Years to 20 Years   (Child, Adult)\n",
              "5782       18 Years and older   (Adult, Older Adult)\n",
              "Name: Age, Length: 5783, dtype: object"
            ]
          },
          "metadata": {},
          "execution_count": 25
        }
      ]
    },
    {
      "cell_type": "code",
      "source": [
        "# Lista de posibles valores de la columna Age\n",
        "df.Age.unique()"
      ],
      "metadata": {
        "colab": {
          "base_uri": "https://localhost:8080/"
        },
        "id": "6czJElFDc8do",
        "outputId": "2be42f4e-84f3-446b-e216-7a0924220f92"
      },
      "execution_count": 28,
      "outputs": [
        {
          "output_type": "execute_result",
          "data": {
            "text/plain": [
              "array(['18 Years and older \\xa0 (Adult, Older Adult)',\n",
              "       'Child, Adult, Older Adult', '18 Years to 48 Years \\xa0 (Adult)',\n",
              "       '18 Years to 75 Years \\xa0 (Adult, Older Adult)',\n",
              "       '18 Years to 45 Years \\xa0 (Adult)',\n",
              "       '18 Years to 99 Years \\xa0 (Adult, Older Adult)',\n",
              "       '18 Years to 55 Years \\xa0 (Adult)',\n",
              "       '15 Years and older \\xa0 (Child, Adult, Older Adult)',\n",
              "       '18 Years to 80 Years \\xa0 (Adult, Older Adult)',\n",
              "       '45 Years and older \\xa0 (Adult, Older Adult)',\n",
              "       '20 Years to 100 Years \\xa0 (Adult, Older Adult)',\n",
              "       '8 Years to 88 Years \\xa0 (Child, Adult, Older Adult)',\n",
              "       '5 Years to 65 Years \\xa0 (Child, Adult, Older Adult)',\n",
              "       'up to 99 Years \\xa0 (Child, Adult, Older Adult)',\n",
              "       '18 Years to 85 Years \\xa0 (Adult, Older Adult)',\n",
              "       '18 Years to 65 Years \\xa0 (Adult, Older Adult)',\n",
              "       'up to 29 Days \\xa0 (Child)',\n",
              "       '18 Years to 70 Years \\xa0 (Adult, Older Adult)',\n",
              "       '18 Years to 59 Years \\xa0 (Adult)',\n",
              "       'up to 100 Years \\xa0 (Child, Adult, Older Adult)',\n",
              "       '20 Years to 60 Years \\xa0 (Adult)',\n",
              "       '40 Years to 80 Years \\xa0 (Adult, Older Adult)',\n",
              "       '23 Years and older \\xa0 (Adult, Older Adult)',\n",
              "       '18 Years to 120 Years \\xa0 (Adult, Older Adult)',\n",
              "       '16 Years and older \\xa0 (Child, Adult, Older Adult)',\n",
              "       '5 Years to 90 Years \\xa0 (Child, Adult, Older Adult)',\n",
              "       '18 Years to 90 Years \\xa0 (Adult, Older Adult)',\n",
              "       'up to 18 Years \\xa0 (Child, Adult)',\n",
              "       '2 Years and older \\xa0 (Child, Adult, Older Adult)',\n",
              "       '70 Years and older \\xa0 (Older Adult)',\n",
              "       '18 Years to 26 Years \\xa0 (Adult)',\n",
              "       '18 Years to 95 Years \\xa0 (Adult, Older Adult)',\n",
              "       '12 Years and older \\xa0 (Child, Adult, Older Adult)',\n",
              "       '16 Years to 55 Years \\xa0 (Child, Adult)',\n",
              "       '30 Years to 70 Years \\xa0 (Adult, Older Adult)',\n",
              "       '35 Years to 65 Years \\xa0 (Adult, Older Adult)',\n",
              "       '18 Years to 40 Years \\xa0 (Adult)',\n",
              "       '18 Years to 60 Years \\xa0 (Adult)',\n",
              "       '18 Years to 100 Years \\xa0 (Adult, Older Adult)',\n",
              "       '6 Years and older \\xa0 (Child, Adult, Older Adult)',\n",
              "       'up to 17 Years \\xa0 (Child)',\n",
              "       '22 Years to 72 Years \\xa0 (Adult, Older Adult)',\n",
              "       '16 Years to 100 Years \\xa0 (Child, Adult, Older Adult)',\n",
              "       '6 Months and older \\xa0 (Child, Adult, Older Adult)',\n",
              "       '20 Years to 65 Years \\xa0 (Adult, Older Adult)',\n",
              "       '14 Years to 75 Years \\xa0 (Child, Adult, Older Adult)',\n",
              "       '5 Years and older \\xa0 (Child, Adult, Older Adult)',\n",
              "       '1 Year to 100 Years \\xa0 (Child, Adult, Older Adult)',\n",
              "       '18 Years to 89 Years \\xa0 (Adult, Older Adult)',\n",
              "       '4 Years to 13 Years \\xa0 (Child)',\n",
              "       '16 Years to 90 Years \\xa0 (Child, Adult, Older Adult)',\n",
              "       '1 Year to 90 Years \\xa0 (Child, Adult, Older Adult)',\n",
              "       '6 Months to 100 Years \\xa0 (Child, Adult, Older Adult)',\n",
              "       '17 Years to 50 Years \\xa0 (Child, Adult)',\n",
              "       '18 Years to 69 Years \\xa0 (Adult, Older Adult)',\n",
              "       '19 Years and older \\xa0 (Adult, Older Adult)',\n",
              "       '18 Years to 50 Years \\xa0 (Adult)',\n",
              "       '8 Years and older \\xa0 (Child, Adult, Older Adult)',\n",
              "       '50 Years and older \\xa0 (Adult, Older Adult)',\n",
              "       'up to 20 Years \\xa0 (Child, Adult)',\n",
              "       '10 Years and older \\xa0 (Child, Adult, Older Adult)',\n",
              "       '18 Years to 49 Years \\xa0 (Adult)',\n",
              "       '18 Years to 62 Years \\xa0 (Adult)',\n",
              "       '18 Years to 67 Years \\xa0 (Adult, Older Adult)',\n",
              "       '40 Years and older \\xa0 (Adult, Older Adult)',\n",
              "       'up to 15 Minutes \\xa0 (Child)',\n",
              "       '10 Years to 50 Years \\xa0 (Child, Adult)',\n",
              "       '11 Years to 100 Years \\xa0 (Child, Adult, Older Adult)',\n",
              "       'up to 70 Years \\xa0 (Child, Adult, Older Adult)',\n",
              "       '16 Years to 24 Years \\xa0 (Child, Adult)',\n",
              "       '17 Years to 85 Years \\xa0 (Child, Adult, Older Adult)',\n",
              "       '23 Years to 55 Years \\xa0 (Adult)',\n",
              "       '18 Years to 84 Years \\xa0 (Adult, Older Adult)',\n",
              "       '65 Years and older \\xa0 (Older Adult)',\n",
              "       '21 Years to 65 Years \\xa0 (Adult, Older Adult)',\n",
              "       '18 Years to 111 Years \\xa0 (Adult, Older Adult)',\n",
              "       '12 Years to 65 Years \\xa0 (Child, Adult, Older Adult)',\n",
              "       '40 Years to 76 Years \\xa0 (Adult, Older Adult)',\n",
              "       '20 Years and older \\xa0 (Adult, Older Adult)',\n",
              "       '25 Years to 35 Years \\xa0 (Adult)',\n",
              "       '22 Weeks to 28 Weeks \\xa0 (Child)',\n",
              "       '18 Years to 105 Years \\xa0 (Adult, Older Adult)',\n",
              "       '21 Years and older \\xa0 (Adult, Older Adult)',\n",
              "       '21 Years to 50 Years \\xa0 (Adult)',\n",
              "       '21 Years to 80 Years \\xa0 (Adult, Older Adult)',\n",
              "       '4 Years and older \\xa0 (Child, Adult, Older Adult)',\n",
              "       '7 Years and older \\xa0 (Child, Adult, Older Adult)',\n",
              "       '1 Year and older \\xa0 (Child, Adult, Older Adult)',\n",
              "       '15 Years to 85 Years \\xa0 (Child, Adult, Older Adult)',\n",
              "       '18 Years to 64 Years \\xa0 (Adult)',\n",
              "       '55 Years and older \\xa0 (Adult, Older Adult)',\n",
              "       '40 Years to 90 Years \\xa0 (Adult, Older Adult)',\n",
              "       '60 Years and older \\xa0 (Adult, Older Adult)',\n",
              "       '20 Years to 80 Years \\xa0 (Adult, Older Adult)',\n",
              "       '3 Years to 10 Years \\xa0 (Child)',\n",
              "       '17 Years and older \\xa0 (Child, Adult, Older Adult)',\n",
              "       '18 Months to 85 Years \\xa0 (Child, Adult, Older Adult)',\n",
              "       '1 Month to 99 Years \\xa0 (Child, Adult, Older Adult)',\n",
              "       '19 Years to 70 Years \\xa0 (Adult, Older Adult)',\n",
              "       '8 Years to 89 Years \\xa0 (Child, Adult, Older Adult)',\n",
              "       '18 Years to 110 Years \\xa0 (Adult, Older Adult)',\n",
              "       '18 Years to 130 Years \\xa0 (Adult, Older Adult)',\n",
              "       '17 Years to 65 Years \\xa0 (Child, Adult, Older Adult)',\n",
              "       'up to 14 Years \\xa0 (Child)',\n",
              "       '10 Years to 70 Years \\xa0 (Child, Adult, Older Adult)',\n",
              "       '1 Year to 2 Years \\xa0 (Child)', 'up to 15 Years \\xa0 (Child)',\n",
              "       '20 Years to 70 Years \\xa0 (Adult, Older Adult)',\n",
              "       '6 Months to 80 Years \\xa0 (Child, Adult, Older Adult)',\n",
              "       '3 Months and older \\xa0 (Child, Adult, Older Adult)',\n",
              "       '4 Years to 99 Years \\xa0 (Child, Adult, Older Adult)',\n",
              "       '21 Years to 70 Years \\xa0 (Adult, Older Adult)',\n",
              "       '22 Years to 75 Years \\xa0 (Adult, Older Adult)',\n",
              "       '60 Years to 80 Years \\xa0 (Adult, Older Adult)',\n",
              "       '3 Years and older \\xa0 (Child, Adult, Older Adult)',\n",
              "       'up to 22 Years \\xa0 (Child, Adult)',\n",
              "       '13 Years to 59 Years \\xa0 (Child, Adult)',\n",
              "       'up to 24 Years \\xa0 (Child, Adult)',\n",
              "       '2 Months and older \\xa0 (Child, Adult, Older Adult)',\n",
              "       '18 Months and older \\xa0 (Child, Adult, Older Adult)',\n",
              "       '18 Years to 79 Years \\xa0 (Adult, Older Adult)',\n",
              "       '12 Years to 80 Years \\xa0 (Child, Adult, Older Adult)',\n",
              "       '15 Years to 90 Years \\xa0 (Child, Adult, Older Adult)',\n",
              "       '18 Years to 42 Years \\xa0 (Adult)',\n",
              "       '21 Years to 100 Years \\xa0 (Adult, Older Adult)',\n",
              "       '30 Years to 80 Years \\xa0 (Adult, Older Adult)',\n",
              "       '25 Years to 65 Years \\xa0 (Adult, Older Adult)',\n",
              "       '1 Year to 18 Years \\xa0 (Child, Adult)',\n",
              "       '1 Year to 80 Years \\xa0 (Child, Adult, Older Adult)',\n",
              "       '25 Years to 55 Years \\xa0 (Adult)',\n",
              "       '18 Years to 101 Years \\xa0 (Adult, Older Adult)',\n",
              "       '2 Years to 18 Years \\xa0 (Child, Adult)',\n",
              "       '19 Years to 80 Years \\xa0 (Adult, Older Adult)',\n",
              "       '30 Years and older \\xa0 (Adult, Older Adult)',\n",
              "       '1 Month to 18 Years \\xa0 (Child, Adult)',\n",
              "       '25 Years and older \\xa0 (Adult, Older Adult)',\n",
              "       '2 Years to 27 Years \\xa0 (Child, Adult)',\n",
              "       '16 Years to 120 Years \\xa0 (Child, Adult, Older Adult)',\n",
              "       '60 Years to 111 Years \\xa0 (Adult, Older Adult)',\n",
              "       '19 Years to 75 Years \\xa0 (Adult, Older Adult)',\n",
              "       '1 Month to 17 Years \\xa0 (Child)',\n",
              "       '20 Years to 79 Years \\xa0 (Adult, Older Adult)',\n",
              "       '17 Years to 75 Years \\xa0 (Child, Adult, Older Adult)',\n",
              "       '21 Years to 64 Years \\xa0 (Adult)',\n",
              "       '25 Years to 70 Years \\xa0 (Adult, Older Adult)',\n",
              "       '12 Years to 100 Years \\xa0 (Child, Adult, Older Adult)',\n",
              "       '16 Years to 80 Years \\xa0 (Child, Adult, Older Adult)',\n",
              "       'up to 21 Years \\xa0 (Child, Adult)',\n",
              "       '18 Years to 35 Years \\xa0 (Adult)',\n",
              "       '55 Years to 120 Years \\xa0 (Adult, Older Adult)',\n",
              "       '1 Year to 15 Years \\xa0 (Child)',\n",
              "       'up to 45 Years \\xa0 (Child, Adult)',\n",
              "       '90 Years and older \\xa0 (Older Adult)',\n",
              "       '18 Years to 39 Years \\xa0 (Adult)',\n",
              "       '15 Years to 35 Years \\xa0 (Child, Adult)',\n",
              "       'up to 50 Years \\xa0 (Child, Adult)',\n",
              "       '15 Years to 80 Years \\xa0 (Child, Adult, Older Adult)',\n",
              "       '14 Years and older \\xa0 (Child, Adult, Older Adult)',\n",
              "       '1 Year to 16 Years \\xa0 (Child)',\n",
              "       '2 Years to 15 Years \\xa0 (Child)',\n",
              "       '17 Years to 35 Years \\xa0 (Child, Adult)',\n",
              "       '6 Years to 85 Years \\xa0 (Child, Adult, Older Adult)',\n",
              "       '25 Years to 40 Years \\xa0 (Adult)',\n",
              "       '12 Years to 99 Years \\xa0 (Child, Adult, Older Adult)',\n",
              "       '18 Years to 30 Years \\xa0 (Adult)',\n",
              "       '75 Years and older \\xa0 (Older Adult)',\n",
              "       '50 Years to 90 Years \\xa0 (Adult, Older Adult)',\n",
              "       '4 Years to 18 Years \\xa0 (Child, Adult)',\n",
              "       'up to 85 Years \\xa0 (Child, Adult, Older Adult)',\n",
              "       '16 Years to 85 Years \\xa0 (Child, Adult, Older Adult)',\n",
              "       '36 Years to 63 Years \\xa0 (Adult)',\n",
              "       '4 Years to 80 Years \\xa0 (Child, Adult, Older Adult)',\n",
              "       '25 Years to 60 Years \\xa0 (Adult)',\n",
              "       '1 Year to 99 Years \\xa0 (Child, Adult, Older Adult)',\n",
              "       '16 Years to 40 Years \\xa0 (Child, Adult)',\n",
              "       '20 Years to 45 Years \\xa0 (Adult)', 'up to 7 Hours \\xa0 (Child)',\n",
              "       '4 Years to 17 Years \\xa0 (Child)',\n",
              "       '3 Years to 67 Years \\xa0 (Child, Adult, Older Adult)',\n",
              "       'up to 120 Years \\xa0 (Child, Adult, Older Adult)',\n",
              "       '21 Years to 60 Years \\xa0 (Adult)',\n",
              "       '18 Years to 76 Years \\xa0 (Adult, Older Adult)',\n",
              "       '25 Years to 80 Years \\xa0 (Adult, Older Adult)',\n",
              "       '19 Years to 85 Years \\xa0 (Adult, Older Adult)',\n",
              "       '3 Years to 99 Years \\xa0 (Child, Adult, Older Adult)',\n",
              "       '24 Years to 37 Years \\xa0 (Adult)',\n",
              "       '12 Years to 120 Years \\xa0 (Child, Adult, Older Adult)',\n",
              "       '20 Years to 74 Years \\xa0 (Adult, Older Adult)',\n",
              "       'up to 28 Days \\xa0 (Child)', '30 Years to 55 Years \\xa0 (Adult)',\n",
              "       '18 Years to 117 Years \\xa0 (Adult, Older Adult)',\n",
              "       '3 Years to 17 Years \\xa0 (Child)',\n",
              "       '12 Years to 25 Years \\xa0 (Child, Adult)',\n",
              "       '16 Years to 70 Years \\xa0 (Child, Adult, Older Adult)',\n",
              "       '6 Years to 18 Years \\xa0 (Child, Adult)',\n",
              "       '30 Years to 60 Years \\xa0 (Adult)',\n",
              "       'up to 12 Months \\xa0 (Child)',\n",
              "       '12 Years to 57 Years \\xa0 (Child, Adult)',\n",
              "       '15 Years to 65 Years \\xa0 (Child, Adult, Older Adult)',\n",
              "       '3 Years to 25 Years \\xa0 (Child, Adult)',\n",
              "       '18 Years to 88 Years \\xa0 (Adult, Older Adult)',\n",
              "       'up to 10 Years \\xa0 (Child)', '28 Years to 45 Years \\xa0 (Adult)',\n",
              "       '13 Years and older \\xa0 (Child, Adult, Older Adult)',\n",
              "       'up to 90 Years \\xa0 (Child, Adult, Older Adult)',\n",
              "       '6 Years to 90 Years \\xa0 (Child, Adult, Older Adult)',\n",
              "       '40 Years to 60 Years \\xa0 (Adult)',\n",
              "       '30 Years to 85 Years \\xa0 (Adult, Older Adult)',\n",
              "       'up to 89 Years \\xa0 (Child, Adult, Older Adult)',\n",
              "       '14 Years to 100 Years \\xa0 (Child, Adult, Older Adult)',\n",
              "       '40 Years to 85 Years \\xa0 (Adult, Older Adult)',\n",
              "       '16 Years to 86 Years \\xa0 (Child, Adult, Older Adult)',\n",
              "       '20 Years to 50 Years \\xa0 (Adult)',\n",
              "       '1 Month to 100 Years \\xa0 (Child, Adult, Older Adult)',\n",
              "       '12 Months and older \\xa0 (Child, Adult, Older Adult)',\n",
              "       '12 Years to 50 Years \\xa0 (Child, Adult)',\n",
              "       '50 Years to 80 Years \\xa0 (Adult, Older Adult)',\n",
              "       '45 Years to 75 Years \\xa0 (Adult, Older Adult)',\n",
              "       '55 Years to 85 Years \\xa0 (Adult, Older Adult)',\n",
              "       '24 Months to 18 Years \\xa0 (Child, Adult)',\n",
              "       '19 Years to 65 Years \\xa0 (Adult, Older Adult)',\n",
              "       '18 Years to 71 Years \\xa0 (Adult, Older Adult)',\n",
              "       '46 Years and older \\xa0 (Adult, Older Adult)',\n",
              "       '35 Years to 45 Years \\xa0 (Adult)',\n",
              "       '85 Years to 100 Years \\xa0 (Older Adult)',\n",
              "       '45 Years to 85 Years \\xa0 (Adult, Older Adult)',\n",
              "       '20 Years to 90 Years \\xa0 (Adult, Older Adult)',\n",
              "       '12 Years to 85 Years \\xa0 (Child, Adult, Older Adult)',\n",
              "       '216 Months and older \\xa0 (Adult, Older Adult)',\n",
              "       '3 Years to 18 Years \\xa0 (Child, Adult)',\n",
              "       '15 Years to 45 Years \\xa0 (Child, Adult)',\n",
              "       '12 Years to 17 Years \\xa0 (Child)',\n",
              "       '1 Month to 30 Years \\xa0 (Child, Adult)',\n",
              "       '21 Years to 40 Years \\xa0 (Adult)',\n",
              "       '20 Years to 85 Years \\xa0 (Adult, Older Adult)',\n",
              "       '8 Years to 14 Years \\xa0 (Child)',\n",
              "       'up to 25 Years \\xa0 (Child, Adult)',\n",
              "       '11 Years and older \\xa0 (Child, Adult, Older Adult)',\n",
              "       '19 Years to 64 Years \\xa0 (Adult)',\n",
              "       '15 Years to 75 Years \\xa0 (Child, Adult, Older Adult)',\n",
              "       '40 Years to 75 Years \\xa0 (Adult, Older Adult)',\n",
              "       '16 Years to 99 Years \\xa0 (Child, Adult, Older Adult)',\n",
              "       '4 Years to 64 Years \\xa0 (Child, Adult)',\n",
              "       '18 Years to 54 Years \\xa0 (Adult)',\n",
              "       '40 Years to 70 Years \\xa0 (Adult, Older Adult)',\n",
              "       '50 Years to 85 Years \\xa0 (Adult, Older Adult)',\n",
              "       '7 Years to 18 Years \\xa0 (Child, Adult)',\n",
              "       '24 Years to 45 Years \\xa0 (Adult)',\n",
              "       '40 Years to 65 Years \\xa0 (Adult, Older Adult)',\n",
              "       '13 Years to 19 Years \\xa0 (Child, Adult)',\n",
              "       '25 Years to 67 Years \\xa0 (Adult, Older Adult)',\n",
              "       '18 Years to 74 Years \\xa0 (Adult, Older Adult)',\n",
              "       '14 Years to 90 Years \\xa0 (Child, Adult, Older Adult)',\n",
              "       '15 Years to 100 Years \\xa0 (Child, Adult, Older Adult)',\n",
              "       '18 Years to 47 Years \\xa0 (Adult)', 'up to 2 Years \\xa0 (Child)',\n",
              "       '2 Months to 17 Years \\xa0 (Child)',\n",
              "       '50 Years to 75 Years \\xa0 (Adult, Older Adult)',\n",
              "       '31 Days to 18 Years \\xa0 (Child, Adult)',\n",
              "       '8 Years to 80 Years \\xa0 (Child, Adult, Older Adult)',\n",
              "       '18 Years to 125 Years \\xa0 (Adult, Older Adult)',\n",
              "       '6 Years to 99 Years \\xa0 (Child, Adult, Older Adult)',\n",
              "       '18 Years to 68 Years \\xa0 (Adult, Older Adult)',\n",
              "       'up to 1 Month \\xa0 (Child)', '20 Years to 38 Years \\xa0 (Adult)',\n",
              "       '6 Months to 11 Years \\xa0 (Child)',\n",
              "       '3 Months to 16 Years \\xa0 (Child)',\n",
              "       '26 Years to 40 Years \\xa0 (Adult)',\n",
              "       '65 Years to 110 Years \\xa0 (Older Adult)',\n",
              "       '7 Years to 12 Years \\xa0 (Child)',\n",
              "       '12 Years to 90 Years \\xa0 (Child, Adult, Older Adult)',\n",
              "       '19 Years to 55 Years \\xa0 (Adult)',\n",
              "       '1 Month and older \\xa0 (Child, Adult, Older Adult)',\n",
              "       '3 Years to 16 Years \\xa0 (Child)',\n",
              "       '18 Years to 114 Years \\xa0 (Adult, Older Adult)',\n",
              "       '35 Years to 100 Years \\xa0 (Adult, Older Adult)',\n",
              "       '4 Years to 6 Years \\xa0 (Child)',\n",
              "       '7 Years to 9 Years \\xa0 (Child)',\n",
              "       '12 Years to 98 Years \\xa0 (Child, Adult, Older Adult)',\n",
              "       '20 Years to 75 Years \\xa0 (Adult, Older Adult)',\n",
              "       '24 Years to 60 Years \\xa0 (Adult)',\n",
              "       '18 Years to 43 Years \\xa0 (Adult)',\n",
              "       '18 Years to 24 Years \\xa0 (Adult)',\n",
              "       '24 Years to 80 Years \\xa0 (Adult, Older Adult)',\n",
              "       'up to 13 Years \\xa0 (Child)',\n",
              "       '23 Years to 75 Years \\xa0 (Adult, Older Adult)',\n",
              "       '14 Years to 70 Years \\xa0 (Child, Adult, Older Adult)',\n",
              "       '50 Years to 110 Years \\xa0 (Adult, Older Adult)',\n",
              "       '18 Years to 51 Years \\xa0 (Adult)',\n",
              "       '22 Years to 65 Years \\xa0 (Adult, Older Adult)',\n",
              "       '20 Years to 59 Years \\xa0 (Adult)',\n",
              "       '30 Years to 75 Years \\xa0 (Adult, Older Adult)',\n",
              "       '15 Years to 17 Years \\xa0 (Child)',\n",
              "       '50 Years to 89 Years \\xa0 (Adult, Older Adult)',\n",
              "       '14 Years to 80 Years \\xa0 (Child, Adult, Older Adult)',\n",
              "       '65 Years to 100 Years \\xa0 (Older Adult)',\n",
              "       '10 Years to 17 Years \\xa0 (Child)',\n",
              "       '48 Years to 60 Years \\xa0 (Adult)',\n",
              "       '45 Years to 80 Years \\xa0 (Adult, Older Adult)',\n",
              "       '20 Years to 55 Years \\xa0 (Adult)',\n",
              "       '44 Weeks to 18 Years \\xa0 (Child, Adult)',\n",
              "       '6 Years to 17 Years \\xa0 (Child)',\n",
              "       '13 Years to 25 Years \\xa0 (Child, Adult)',\n",
              "       '5 Years to 75 Years \\xa0 (Child, Adult, Older Adult)',\n",
              "       '6 Months to 9 Months \\xa0 (Child)',\n",
              "       '20 Years to 69 Years \\xa0 (Adult, Older Adult)',\n",
              "       '9 Months and older \\xa0 (Child, Adult, Older Adult)',\n",
              "       '9 Years to 12 Years \\xa0 (Child)',\n",
              "       '21 Years to 58 Years \\xa0 (Adult)', 'up to 72 Hours \\xa0 (Child)',\n",
              "       '1 Year to 95 Years \\xa0 (Child, Adult, Older Adult)',\n",
              "       '3 Years to 13 Years \\xa0 (Child)',\n",
              "       '30 Years to 66 Years \\xa0 (Adult, Older Adult)',\n",
              "       '45 Years to 65 Years \\xa0 (Adult, Older Adult)',\n",
              "       '22 Years and older \\xa0 (Adult, Older Adult)',\n",
              "       '35 Years to 80 Years \\xa0 (Adult, Older Adult)',\n",
              "       '14 Years to 18 Years \\xa0 (Child, Adult)',\n",
              "       '18 Years to 22 Years \\xa0 (Adult)',\n",
              "       '10 Years to 18 Years \\xa0 (Child, Adult)',\n",
              "       '4 Years to 7 Years \\xa0 (Child)',\n",
              "       '35 Years and older \\xa0 (Adult, Older Adult)',\n",
              "       '65 Years to 85 Years \\xa0 (Older Adult)',\n",
              "       '13 Years to 21 Years \\xa0 (Child, Adult)',\n",
              "       '3 Years to 6 Years \\xa0 (Child)',\n",
              "       '74 Years to 95 Years \\xa0 (Older Adult)',\n",
              "       '10 Years to 19 Years \\xa0 (Child, Adult)',\n",
              "       '8 Years to 24 Years \\xa0 (Child, Adult)',\n",
              "       '13 Years to 24 Years \\xa0 (Child, Adult)',\n",
              "       '16 Years to 75 Years \\xa0 (Child, Adult, Older Adult)',\n",
              "       '85 Years and older \\xa0 (Older Adult)',\n",
              "       '18 Years to 25 Years \\xa0 (Adult)',\n",
              "       '18 Years to 72 Years \\xa0 (Adult, Older Adult)',\n",
              "       '17 Years to 81 Years \\xa0 (Child, Adult, Older Adult)',\n",
              "       '50 Years to 70 Years \\xa0 (Adult, Older Adult)',\n",
              "       '65 Years to 80 Years \\xa0 (Older Adult)',\n",
              "       'up to 80 Years \\xa0 (Child, Adult, Older Adult)',\n",
              "       '3 Years to 11 Years \\xa0 (Child)',\n",
              "       '8 Years to 15 Years \\xa0 (Child)',\n",
              "       '31 Days and older \\xa0 (Child, Adult, Older Adult)',\n",
              "       '13 Years to 99 Years \\xa0 (Child, Adult, Older Adult)',\n",
              "       '6 Months to 6 Years \\xa0 (Child)',\n",
              "       '8 Years to 13 Years \\xa0 (Child)',\n",
              "       'up to 110 Years \\xa0 (Child, Adult, Older Adult)',\n",
              "       '1 Year to 10 Years \\xa0 (Child)', 'up to 24 Months \\xa0 (Child)',\n",
              "       '12 Years to 75 Years \\xa0 (Child, Adult, Older Adult)',\n",
              "       '21 Years to 75 Years \\xa0 (Adult, Older Adult)',\n",
              "       '11 Years to 18 Years \\xa0 (Child, Adult)',\n",
              "       '11 Years to 17 Years \\xa0 (Child)',\n",
              "       '5 Years to 12 Years \\xa0 (Child)',\n",
              "       '10 Years to 75 Years \\xa0 (Child, Adult, Older Adult)',\n",
              "       'up to 16 Years \\xa0 (Child)',\n",
              "       '13 Years to 18 Years \\xa0 (Child, Adult)',\n",
              "       '2 Years to 17 Years \\xa0 (Child)',\n",
              "       '16 Years to 25 Years \\xa0 (Child, Adult)',\n",
              "       '3 Years to 8 Years \\xa0 (Child)',\n",
              "       '16 Years to 67 Years \\xa0 (Child, Adult, Older Adult)',\n",
              "       '13 Years to 16 Years \\xa0 (Child)',\n",
              "       '20 Years to 30 Years \\xa0 (Adult)',\n",
              "       '50 Years to 100 Years \\xa0 (Adult, Older Adult)',\n",
              "       '60 Years to 95 Years \\xa0 (Adult, Older Adult)',\n",
              "       '50 Years to 65 Years \\xa0 (Adult, Older Adult)',\n",
              "       '17 Years to 40 Years \\xa0 (Child, Adult)',\n",
              "       '4 Years to 12 Years \\xa0 (Child)',\n",
              "       '12 Years to 18 Years \\xa0 (Child, Adult)',\n",
              "       '5 Years to 85 Years \\xa0 (Child, Adult, Older Adult)',\n",
              "       '20 Years to 99 Years \\xa0 (Adult, Older Adult)',\n",
              "       '11 Years to 15 Years \\xa0 (Child)',\n",
              "       '20 Years to 40 Years \\xa0 (Adult)',\n",
              "       '19 Years to 30 Years \\xa0 (Adult)',\n",
              "       '52 Years and older \\xa0 (Adult, Older Adult)',\n",
              "       '16 Years to 49 Years \\xa0 (Child, Adult)',\n",
              "       '6 Years to 80 Years \\xa0 (Child, Adult, Older Adult)',\n",
              "       '21 Years to 99 Years \\xa0 (Adult, Older Adult)',\n",
              "       '21 Years to 84 Years \\xa0 (Adult, Older Adult)',\n",
              "       '4 Years to 15 Years \\xa0 (Child)',\n",
              "       '35 Years to 70 Years \\xa0 (Adult, Older Adult)',\n",
              "       '55 Years to 80 Years \\xa0 (Adult, Older Adult)',\n",
              "       '3 Years to 7 Years \\xa0 (Child)',\n",
              "       '21 Months to 47 Months \\xa0 (Child)',\n",
              "       '18 Months to 48 Months \\xa0 (Child)',\n",
              "       '4 Years to 8 Years \\xa0 (Child)',\n",
              "       '9 Years to 18 Years \\xa0 (Child, Adult)',\n",
              "       '7 Years to 11 Years \\xa0 (Child)',\n",
              "       '7 Years to 80 Years \\xa0 (Child, Adult, Older Adult)',\n",
              "       '40 Years to 100 Years \\xa0 (Adult, Older Adult)',\n",
              "       '4 Years to 10 Years \\xa0 (Child)',\n",
              "       '16 Years to 50 Years \\xa0 (Child, Adult)',\n",
              "       '55 Years to 79 Years \\xa0 (Adult, Older Adult)',\n",
              "       '7 Years to 17 Years \\xa0 (Child)',\n",
              "       '12 Years to 16 Years \\xa0 (Child)',\n",
              "       '48 Years to 58 Years \\xa0 (Adult)',\n",
              "       '60 Years to 85 Years \\xa0 (Adult, Older Adult)',\n",
              "       '55 Years to 110 Years \\xa0 (Adult, Older Adult)',\n",
              "       '17 Years to 20 Years \\xa0 (Child, Adult)',\n",
              "       'up to 5 Years \\xa0 (Child)', '6 Years to 12 Years \\xa0 (Child)',\n",
              "       '15 Years to 19 Years \\xa0 (Child, Adult)',\n",
              "       'up to 1 Year \\xa0 (Child)', '21 Years to 45 Years \\xa0 (Adult)',\n",
              "       '2 Years to 14 Years \\xa0 (Child)', 'up to 2 Months \\xa0 (Child)',\n",
              "       '11 Years to 16 Years \\xa0 (Child)',\n",
              "       '15 Years to 49 Years \\xa0 (Child, Adult)',\n",
              "       '70 Years to 89 Years \\xa0 (Older Adult)',\n",
              "       '6 Years to 7 Years \\xa0 (Child)',\n",
              "       '18 Months to 36 Months \\xa0 (Child)',\n",
              "       '45 Years to 59 Years \\xa0 (Adult)',\n",
              "       '6 Months to 17 Years \\xa0 (Child)',\n",
              "       '8 Years to 60 Years \\xa0 (Child, Adult)',\n",
              "       '35 Years to 85 Years \\xa0 (Adult, Older Adult)',\n",
              "       '62 Years and older \\xa0 (Adult, Older Adult)',\n",
              "       '6 Months to 24 Months \\xa0 (Child)',\n",
              "       '18 Years to 34 Years \\xa0 (Adult)',\n",
              "       '12 Years to 22 Years \\xa0 (Child, Adult)',\n",
              "       '3 Months to 18 Years \\xa0 (Child, Adult)',\n",
              "       '8 Years to 20 Years \\xa0 (Child, Adult)'], dtype=object)"
            ]
          },
          "metadata": {},
          "execution_count": 28
        }
      ]
    },
    {
      "cell_type": "code",
      "source": [
        "# La mejor forma de limpiar este formato complicado es usando expresiones\n",
        "# regulares : modulo re\n",
        "dir(re)"
      ],
      "metadata": {
        "colab": {
          "base_uri": "https://localhost:8080/"
        },
        "id": "vgKBmVXgd1HT",
        "outputId": "3801deb9-0fcf-4fc3-9d29-dc7f980dd3af"
      },
      "execution_count": 30,
      "outputs": [
        {
          "output_type": "execute_result",
          "data": {
            "text/plain": [
              "['A',\n",
              " 'ASCII',\n",
              " 'DEBUG',\n",
              " 'DOTALL',\n",
              " 'I',\n",
              " 'IGNORECASE',\n",
              " 'L',\n",
              " 'LOCALE',\n",
              " 'M',\n",
              " 'MULTILINE',\n",
              " 'Match',\n",
              " 'Pattern',\n",
              " 'RegexFlag',\n",
              " 'S',\n",
              " 'Scanner',\n",
              " 'T',\n",
              " 'TEMPLATE',\n",
              " 'U',\n",
              " 'UNICODE',\n",
              " 'VERBOSE',\n",
              " 'X',\n",
              " '_MAXCACHE',\n",
              " '__all__',\n",
              " '__builtins__',\n",
              " '__cached__',\n",
              " '__doc__',\n",
              " '__file__',\n",
              " '__loader__',\n",
              " '__name__',\n",
              " '__package__',\n",
              " '__spec__',\n",
              " '__version__',\n",
              " '_cache',\n",
              " '_compile',\n",
              " '_compile_repl',\n",
              " '_expand',\n",
              " '_locale',\n",
              " '_pickle',\n",
              " '_special_chars_map',\n",
              " '_subx',\n",
              " 'compile',\n",
              " 'copyreg',\n",
              " 'enum',\n",
              " 'error',\n",
              " 'escape',\n",
              " 'findall',\n",
              " 'finditer',\n",
              " 'fullmatch',\n",
              " 'functools',\n",
              " 'match',\n",
              " 'purge',\n",
              " 'search',\n",
              " 'split',\n",
              " 'sre_compile',\n",
              " 'sre_parse',\n",
              " 'sub',\n",
              " 'subn',\n",
              " 'template']"
            ]
          },
          "metadata": {},
          "execution_count": 30
        }
      ]
    },
    {
      "cell_type": "code",
      "source": [
        "# Lo primero es conocer cada funcion operativa que compone al modulo re\n",
        "# 'compile',\n",
        "#  'copyreg',\n",
        "#  'enum',\n",
        "#  'error',\n",
        "#  'escape',\n",
        "#  'findall',\n",
        "#  'finditer',\n",
        "#  'fullmatch',\n",
        "#  'functools',\n",
        "#  'match',\n",
        "#  'purge',\n",
        "#  'search',\n",
        "#  'split',\n",
        "#  'sre_compile',\n",
        "#  'sre_parse',\n",
        "#  'sub',\n",
        "#  'subn',\n",
        "#  'template'\n",
        "\n",
        "# help(re.search)\n",
        "help(re.findall)\n"
      ],
      "metadata": {
        "colab": {
          "base_uri": "https://localhost:8080/"
        },
        "id": "pvcxA19PeaI4",
        "outputId": "e3d347fa-775e-432b-8a26-5f53f2b37ce7"
      },
      "execution_count": 32,
      "outputs": [
        {
          "output_type": "stream",
          "name": "stdout",
          "text": [
            "Help on function findall in module re:\n",
            "\n",
            "findall(pattern, string, flags=0)\n",
            "    Return a list of all non-overlapping matches in the string.\n",
            "    \n",
            "    If one or more capturing groups are present in the pattern, return\n",
            "    a list of groups; this will be a list of tuples if the pattern\n",
            "    has more than one group.\n",
            "    \n",
            "    Empty matches are included in the result.\n",
            "\n"
          ]
        }
      ]
    },
    {
      "cell_type": "code",
      "source": [
        "#  Probemos la funcion findall\n",
        "re.findall(r'\\(.*\\)', df.Age[666])[0]"
      ],
      "metadata": {
        "colab": {
          "base_uri": "https://localhost:8080/",
          "height": 35
        },
        "id": "SQA0CEmFe4ar",
        "outputId": "1ebc2296-c4ea-41f5-b75f-6e8c7b184597"
      },
      "execution_count": 39,
      "outputs": [
        {
          "output_type": "execute_result",
          "data": {
            "text/plain": [
              "'(Adult, Older Adult)'"
            ],
            "application/vnd.google.colaboratory.intrinsic+json": {
              "type": "string"
            }
          },
          "metadata": {},
          "execution_count": 39
        }
      ]
    },
    {
      "cell_type": "code",
      "source": [
        "# Definamos una funcion que nos permita limpiar cada elemento de la \n",
        "# columna Age\n",
        "# Luego de hacer una prueba sobre todas las componente de Age nos dimos cuenta\n",
        "# que hay observaciones que no tienen ese patron ()\n",
        "def cleanAge(age):\n",
        "  if len(re.findall(r'\\(.*\\)', age)):\n",
        "    return re.findall(r'\\(.*\\)', age)[0]\n",
        "  return \"(\"+ age + \")\""
      ],
      "metadata": {
        "id": "U525MGc2ftZh"
      },
      "execution_count": 46,
      "outputs": []
    },
    {
      "cell_type": "code",
      "source": [
        "# Probemos nuestra funcion\n",
        "cleanAge(df.Age[2000])"
      ],
      "metadata": {
        "colab": {
          "base_uri": "https://localhost:8080/",
          "height": 35
        },
        "id": "SqhJWv-YgDbt",
        "outputId": "8072a98d-0acb-47d9-b6c4-1aa24f681477"
      },
      "execution_count": 47,
      "outputs": [
        {
          "output_type": "execute_result",
          "data": {
            "text/plain": [
              "'(Child, Adult, Older Adult)'"
            ],
            "application/vnd.google.colaboratory.intrinsic+json": {
              "type": "string"
            }
          },
          "metadata": {},
          "execution_count": 47
        }
      ]
    },
    {
      "cell_type": "code",
      "source": [
        "# Apliquemos esta funcion a cada elemento de la columna Age\n",
        "ageData = df.Age.apply(lambda x : cleanAge(x))"
      ],
      "metadata": {
        "id": "dF1bWVJUgT83"
      },
      "execution_count": 48,
      "outputs": []
    },
    {
      "cell_type": "code",
      "source": [
        "# Una vez realizada la limpieza sobre la columna Age, podemos ver como\n",
        "# se distribuyen los posibles valores en la columna Age\n",
        "plt.xticks(rotation = 90)\n",
        "sns.countplot(\"Age\", data = pd.DataFrame(ageData))\n",
        "plt.tight_layout()\n",
        "plt.show()"
      ],
      "metadata": {
        "colab": {
          "base_uri": "https://localhost:8080/",
          "height": 352
        },
        "id": "OJaxsDP6hYmJ",
        "outputId": "65be66e8-c0e6-4e13-9b80-71c634e273d3"
      },
      "execution_count": 52,
      "outputs": [
        {
          "output_type": "stream",
          "name": "stderr",
          "text": [
            "/usr/local/lib/python3.8/dist-packages/seaborn/_decorators.py:36: FutureWarning: Pass the following variable as a keyword arg: x. From version 0.12, the only valid positional argument will be `data`, and passing other arguments without an explicit keyword will result in an error or misinterpretation.\n",
            "  warnings.warn(\n"
          ]
        },
        {
          "output_type": "display_data",
          "data": {
            "text/plain": [
              "<Figure size 432x288 with 1 Axes>"
            ],
            "image/png": "[encoded data removed]"
          },
          "metadata": {
            "needs_background": "light"
          }
        }
      ]
    }
  ]
}